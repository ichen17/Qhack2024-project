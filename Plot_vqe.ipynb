{
  "cells": [
    {
      "cell_type": "code",
      "execution_count": null,
      "metadata": {
        "colab": {
          "base_uri": "https://localhost:8080/"
        },
        "id": "M-Z8baRIfk1j",
        "outputId": "64809476-f532-42cf-9640-0bf18f11cff3"
      },
      "outputs": [
        {
          "output_type": "stream",
          "name": "stdout",
          "text": [
            "Reading package lists... Done\n",
            "Building dependency tree... Done\n",
            "Reading state information... Done\n",
            "The following additional packages will be installed:\n",
            "  cm-super-minimal dvisvgm fonts-adf-accanthis fonts-adf-berenis fonts-adf-gillius\n",
            "  fonts-adf-universalis fonts-cabin fonts-cantarell fonts-comfortaa fonts-croscore\n",
            "  fonts-crosextra-caladea fonts-crosextra-carlito fonts-dejavu-core fonts-dejavu-extra\n",
            "  fonts-droid-fallback fonts-ebgaramond fonts-ebgaramond-extra fonts-font-awesome\n",
            "  fonts-freefont-otf fonts-freefont-ttf fonts-gfs-artemisia fonts-gfs-complutum fonts-gfs-didot\n",
            "  fonts-gfs-neohellenic fonts-gfs-olga fonts-gfs-solomos fonts-go fonts-junicode fonts-lato\n",
            "  fonts-linuxlibertine fonts-lmodern fonts-lobster fonts-lobstertwo fonts-noto-color-emoji\n",
            "  fonts-noto-core fonts-noto-mono fonts-oflb-asana-math fonts-open-sans fonts-roboto-unhinted\n",
            "  fonts-sil-charis fonts-sil-gentium fonts-sil-gentium-basic fonts-sil-gentiumplus\n",
            "  fonts-sil-gentiumplus-compact fonts-stix fonts-texgyre fonts-urw-base35 ghostscript\n",
            "  libapache-pom-java libcommons-logging-java libcommons-parent-java libfontbox-java libfontenc1\n",
            "  libgs9 libgs9-common libidn12 libijs-0.35 libjbig2dec0 libkpathsea6 libpdfbox-java libptexenc1\n",
            "  libruby3.0 libsynctex2 libteckit0 libtexlua53 libtexluajit2 libwoff1 libzzip-0-13 lmodern\n",
            "  pfb2t1c2pfb poppler-data preview-latex-style rake ruby ruby-net-telnet ruby-rubygems ruby-webrick\n",
            "  ruby-xmlrpc ruby3.0 rubygems-integration t1utils tex-common tex-gyre texlive-base\n",
            "  texlive-binaries texlive-fonts-extra-links texlive-latex-base texlive-latex-extra\n",
            "  texlive-latex-recommended texlive-pictures texlive-plain-generic tipa xfonts-encodings\n",
            "  xfonts-utils\n",
            "Suggested packages:\n",
            "  fonts-noto fontforge ghostscript-x libavalon-framework-java libcommons-logging-java-doc\n",
            "  libexcalibur-logkit-java liblog4j1.2-java poppler-utils fonts-japanese-mincho\n",
            "  | fonts-ipafont-mincho fonts-japanese-gothic | fonts-ipafont-gothic fonts-arphic-ukai\n",
            "  fonts-arphic-uming fonts-nanum ri ruby-dev bundler debhelper perl-tk xpdf | pdf-viewer xzdec\n",
            "  texlive-fonts-extra-doc texlive-fonts-recommended-doc texlive-latex-base-doc python3-pygments\n",
            "  icc-profiles libfile-which-perl libspreadsheet-parseexcel-perl texlive-latex-extra-doc\n",
            "  texlive-latex-recommended-doc texlive-luatex texlive-pstricks dot2tex prerex texlive-pictures-doc\n",
            "  vprerex default-jre-headless tipa-doc\n",
            "The following NEW packages will be installed:\n",
            "  cm-super cm-super-minimal dvipng dvisvgm fonts-adf-accanthis fonts-adf-berenis fonts-adf-gillius\n",
            "  fonts-adf-universalis fonts-cabin fonts-cantarell fonts-comfortaa fonts-croscore\n",
            "  fonts-crosextra-caladea fonts-crosextra-carlito fonts-dejavu-core fonts-dejavu-extra\n",
            "  fonts-droid-fallback fonts-ebgaramond fonts-ebgaramond-extra fonts-font-awesome\n",
            "  fonts-freefont-otf fonts-freefont-ttf fonts-gfs-artemisia fonts-gfs-complutum fonts-gfs-didot\n",
            "  fonts-gfs-neohellenic fonts-gfs-olga fonts-gfs-solomos fonts-go fonts-junicode fonts-lato\n",
            "  fonts-linuxlibertine fonts-lmodern fonts-lobster fonts-lobstertwo fonts-noto-color-emoji\n",
            "  fonts-noto-core fonts-noto-mono fonts-oflb-asana-math fonts-open-sans fonts-roboto-unhinted\n",
            "  fonts-sil-charis fonts-sil-gentium fonts-sil-gentium-basic fonts-sil-gentiumplus\n",
            "  fonts-sil-gentiumplus-compact fonts-stix fonts-texgyre fonts-urw-base35 ghostscript\n",
            "  libapache-pom-java libcommons-logging-java libcommons-parent-java libfontbox-java libfontenc1\n",
            "  libgs9 libgs9-common libidn12 libijs-0.35 libjbig2dec0 libkpathsea6 libpdfbox-java libptexenc1\n",
            "  libruby3.0 libsynctex2 libteckit0 libtexlua53 libtexluajit2 libwoff1 libzzip-0-13 lmodern\n",
            "  pfb2t1c2pfb poppler-data preview-latex-style rake ruby ruby-net-telnet ruby-rubygems ruby-webrick\n",
            "  ruby-xmlrpc ruby3.0 rubygems-integration t1utils tex-common tex-gyre texlive-base\n",
            "  texlive-binaries texlive-fonts-extra texlive-fonts-extra-links texlive-fonts-recommended\n",
            "  texlive-latex-base texlive-latex-extra texlive-latex-recommended texlive-pictures\n",
            "  texlive-plain-generic tipa xfonts-encodings xfonts-utils\n",
            "0 upgraded, 98 newly installed, 0 to remove and 45 not upgraded.\n",
            "Need to get 738 MB of archives.\n",
            "After this operation, 2,147 MB of additional disk space will be used.\n",
            "Get:1 http://archive.ubuntu.com/ubuntu jammy/main amd64 fonts-droid-fallback all 1:6.0.1r16-1.1build1 [1,805 kB]\n",
            "Get:2 http://archive.ubuntu.com/ubuntu jammy/main amd64 fonts-lato all 2.0-2.1 [2,696 kB]\n",
            "Get:3 http://archive.ubuntu.com/ubuntu jammy/main amd64 poppler-data all 0.4.11-1 [2,171 kB]\n",
            "Get:4 http://archive.ubuntu.com/ubuntu jammy/universe amd64 tex-common all 6.17 [33.7 kB]\n",
            "Get:5 http://archive.ubuntu.com/ubuntu jammy-updates/main amd64 libkpathsea6 amd64 2021.20210626.59705-1ubuntu0.2 [60.4 kB]\n",
            "Get:6 http://archive.ubuntu.com/ubuntu jammy-updates/main amd64 libptexenc1 amd64 2021.20210626.59705-1ubuntu0.2 [39.1 kB]\n",
            "Get:7 http://archive.ubuntu.com/ubuntu jammy-updates/main amd64 libsynctex2 amd64 2021.20210626.59705-1ubuntu0.2 [55.6 kB]\n",
            "Get:8 http://archive.ubuntu.com/ubuntu jammy-updates/main amd64 libtexlua53 amd64 2021.20210626.59705-1ubuntu0.2 [120 kB]\n",
            "Get:9 http://archive.ubuntu.com/ubuntu jammy-updates/main amd64 libtexluajit2 amd64 2021.20210626.59705-1ubuntu0.2 [267 kB]\n",
            "Get:10 http://archive.ubuntu.com/ubuntu jammy/main amd64 t1utils amd64 1.41-4build2 [61.3 kB]\n",
            "Get:11 http://archive.ubuntu.com/ubuntu jammy/universe amd64 libteckit0 amd64 2.5.11+ds1-1 [421 kB]\n",
            "Get:12 http://archive.ubuntu.com/ubuntu jammy/universe amd64 libzzip-0-13 amd64 0.13.72+dfsg.1-1.1 [27.0 kB]\n",
            "Get:13 http://archive.ubuntu.com/ubuntu jammy-updates/universe amd64 texlive-binaries amd64 2021.20210626.59705-1ubuntu0.2 [9,860 kB]\n",
            "Get:14 http://archive.ubuntu.com/ubuntu jammy/universe amd64 texlive-base all 2021.20220204-1 [21.0 MB]\n",
            "Get:15 http://archive.ubuntu.com/ubuntu jammy/universe amd64 fonts-lmodern all 2.004.5-6.1 [4,532 kB]\n",
            "Get:16 http://archive.ubuntu.com/ubuntu jammy/universe amd64 texlive-latex-base all 2021.20220204-1 [1,128 kB]\n",
            "Get:17 http://archive.ubuntu.com/ubuntu jammy/universe amd64 texlive-latex-recommended all 2021.20220204-1 [14.4 MB]\n",
            "Get:18 http://archive.ubuntu.com/ubuntu jammy/universe amd64 cm-super-minimal all 0.3.4-17 [5,777 kB]\n",
            "Get:19 http://archive.ubuntu.com/ubuntu jammy/universe amd64 pfb2t1c2pfb amd64 0.3-11 [9,342 B]\n",
            "Get:20 http://archive.ubuntu.com/ubuntu jammy/universe amd64 cm-super all 0.3.4-17 [20.2 MB]\n",
            "Get:21 http://archive.ubuntu.com/ubuntu jammy/main amd64 fonts-urw-base35 all 20200910-1 [6,367 kB]\n",
            "Get:22 http://archive.ubuntu.com/ubuntu jammy-updates/main amd64 libgs9-common all 9.55.0~dfsg1-0ubuntu5.6 [751 kB]\n",
            "Get:23 http://archive.ubuntu.com/ubuntu jammy-updates/main amd64 libidn12 amd64 1.38-4ubuntu1 [60.0 kB]\n",
            "Get:24 http://archive.ubuntu.com/ubuntu jammy/main amd64 libijs-0.35 amd64 0.35-15build2 [16.5 kB]\n",
            "Get:25 http://archive.ubuntu.com/ubuntu jammy/main amd64 libjbig2dec0 amd64 0.19-3build2 [64.7 kB]\n",
            "Get:26 http://archive.ubuntu.com/ubuntu jammy-updates/main amd64 libgs9 amd64 9.55.0~dfsg1-0ubuntu5.6 [5,031 kB]\n",
            "Get:27 http://archive.ubuntu.com/ubuntu jammy-updates/main amd64 ghostscript amd64 9.55.0~dfsg1-0ubuntu5.6 [49.4 kB]\n",
            "Get:28 http://archive.ubuntu.com/ubuntu jammy/universe amd64 dvipng amd64 1.15-1.1 [78.9 kB]\n",
            "Get:29 http://archive.ubuntu.com/ubuntu jammy/main amd64 libwoff1 amd64 1.0.2-1build4 [45.2 kB]\n",
            "Get:30 http://archive.ubuntu.com/ubuntu jammy/universe amd64 dvisvgm amd64 2.13.1-1 [1,221 kB]\n",
            "Get:31 http://archive.ubuntu.com/ubuntu jammy/universe amd64 fonts-adf-accanthis all 0.20190904-2 [203 kB]\n",
            "Get:32 http://archive.ubuntu.com/ubuntu jammy/universe amd64 fonts-adf-berenis all 0.20190904-2 [313 kB]\n",
            "Get:33 http://archive.ubuntu.com/ubuntu jammy/universe amd64 fonts-adf-gillius all 0.20190904-2 [190 kB]\n",
            "Get:34 http://archive.ubuntu.com/ubuntu jammy/universe amd64 fonts-adf-universalis all 0.20190904-2 [112 kB]\n",
            "Get:35 http://archive.ubuntu.com/ubuntu jammy/universe amd64 fonts-cabin all 1.5-3 [141 kB]\n",
            "Get:36 http://archive.ubuntu.com/ubuntu jammy/universe amd64 fonts-cantarell all 0.303-2 [286 kB]\n",
            "Get:37 http://archive.ubuntu.com/ubuntu jammy/universe amd64 fonts-comfortaa all 3.001-3 [129 kB]\n",
            "Get:38 http://archive.ubuntu.com/ubuntu jammy/universe amd64 fonts-croscore all 20201225-1build1 [1,572 kB]\n",
            "Get:39 http://archive.ubuntu.com/ubuntu jammy/universe amd64 fonts-crosextra-caladea all 20130214-2.1 [82.4 kB]\n",
            "Get:40 http://archive.ubuntu.com/ubuntu jammy/universe amd64 fonts-crosextra-carlito all 20130920-1.1 [743 kB]\n",
            "Get:41 http://archive.ubuntu.com/ubuntu jammy/main amd64 fonts-dejavu-core all 2.37-2build1 [1,041 kB]\n",
            "Get:42 http://archive.ubuntu.com/ubuntu jammy/main amd64 fonts-dejavu-extra all 2.37-2build1 [2,041 kB]\n",
            "Get:43 http://archive.ubuntu.com/ubuntu jammy/universe amd64 fonts-ebgaramond all 0.016+git20210310.42d4f9f2-1 [512 kB]\n",
            "Get:44 http://archive.ubuntu.com/ubuntu jammy/universe amd64 fonts-ebgaramond-extra all 0.016+git20210310.42d4f9f2-1 [2,233 kB]\n",
            "Get:45 http://archive.ubuntu.com/ubuntu jammy/main amd64 fonts-font-awesome all 5.0.10+really4.7.0~dfsg-4.1 [516 kB]\n",
            "Get:46 http://archive.ubuntu.com/ubuntu jammy/universe amd64 fonts-freefont-otf all 20120503-10build1 [3,054 kB]\n",
            "Get:47 http://archive.ubuntu.com/ubuntu jammy/main amd64 fonts-freefont-ttf all 20120503-10build1 [2,388 kB]\n",
            "Get:48 http://archive.ubuntu.com/ubuntu jammy/universe amd64 fonts-gfs-artemisia all 1.1-6 [260 kB]\n",
            "Get:49 http://archive.ubuntu.com/ubuntu jammy/universe amd64 fonts-gfs-complutum all 1.1-7 [41.8 kB]\n",
            "Get:50 http://archive.ubuntu.com/ubuntu jammy/universe amd64 fonts-gfs-didot all 1.1-7 [278 kB]\n",
            "Get:51 http://archive.ubuntu.com/ubuntu jammy/universe amd64 fonts-gfs-neohellenic all 1.1-7 [215 kB]\n",
            "Get:52 http://archive.ubuntu.com/ubuntu jammy/universe amd64 fonts-gfs-olga all 1.1-6 [33.5 kB]\n",
            "Get:53 http://archive.ubuntu.com/ubuntu jammy/universe amd64 fonts-gfs-solomos all 1.1-6 [40.9 kB]\n",
            "Get:54 http://archive.ubuntu.com/ubuntu jammy/universe amd64 fonts-go all 0~20170330-1 [369 kB]\n",
            "Get:55 http://archive.ubuntu.com/ubuntu jammy/universe amd64 fonts-junicode all 1.002-2 [828 kB]\n",
            "Get:56 http://archive.ubuntu.com/ubuntu jammy/universe amd64 fonts-linuxlibertine all 5.3.0-6 [1,627 kB]\n",
            "Get:57 http://archive.ubuntu.com/ubuntu jammy/universe amd64 fonts-lobster all 2.0-2.1 [38.9 kB]\n",
            "Get:58 http://archive.ubuntu.com/ubuntu jammy/universe amd64 fonts-lobstertwo all 2.0-2.1 [93.3 kB]\n",
            "Get:59 http://archive.ubuntu.com/ubuntu jammy-updates/main amd64 fonts-noto-color-emoji all 2.042-0ubuntu0.22.04.1 [9,944 kB]\n",
            "Get:60 http://archive.ubuntu.com/ubuntu jammy/main amd64 fonts-noto-core all 20201225-1build1 [12.2 MB]\n",
            "Get:61 http://archive.ubuntu.com/ubuntu jammy/main amd64 fonts-noto-mono all 20201225-1build1 [397 kB]\n",
            "Get:62 http://archive.ubuntu.com/ubuntu jammy/universe amd64 fonts-oflb-asana-math all 000.907-7build1 [245 kB]\n",
            "Get:63 http://archive.ubuntu.com/ubuntu jammy/universe amd64 fonts-open-sans all 1.11-2 [635 kB]\n",
            "Get:64 http://archive.ubuntu.com/ubuntu jammy/universe amd64 fonts-roboto-unhinted all 2:0~20170802-3 [2,376 kB]\n",
            "Get:65 http://archive.ubuntu.com/ubuntu jammy/universe amd64 fonts-sil-charis all 6.101-1 [3,973 kB]\n",
            "Get:66 http://archive.ubuntu.com/ubuntu jammy/universe amd64 fonts-sil-gentium all 20081126:1.03-4 [245 kB]\n",
            "Get:67 http://archive.ubuntu.com/ubuntu jammy/universe amd64 fonts-sil-gentium-basic all 1.102-1.1 [384 kB]\n",
            "Get:68 http://archive.ubuntu.com/ubuntu jammy/universe amd64 fonts-sil-gentiumplus all 6.101-1 [8,086 kB]\n",
            "Get:69 http://archive.ubuntu.com/ubuntu jammy/universe amd64 fonts-sil-gentiumplus-compact all 5.000-4 [1,514 kB]\n",
            "Get:70 http://archive.ubuntu.com/ubuntu jammy/universe amd64 fonts-texgyre all 20180621-3.1 [10.2 MB]\n",
            "Get:71 http://archive.ubuntu.com/ubuntu jammy/universe amd64 libapache-pom-java all 18-1 [4,720 B]\n",
            "Get:72 http://archive.ubuntu.com/ubuntu jammy/universe amd64 libcommons-parent-java all 43-1 [10.8 kB]\n",
            "Get:73 http://archive.ubuntu.com/ubuntu jammy/universe amd64 libcommons-logging-java all 1.2-2 [60.3 kB]\n",
            "Get:74 http://archive.ubuntu.com/ubuntu jammy/main amd64 libfontenc1 amd64 1:1.1.4-1build3 [14.7 kB]\n",
            "Get:75 http://archive.ubuntu.com/ubuntu jammy/main amd64 rubygems-integration all 1.18 [5,336 B]\n",
            "Get:76 http://archive.ubuntu.com/ubuntu jammy-updates/main amd64 ruby3.0 amd64 3.0.2-7ubuntu2.5 [50.1 kB]\n",
            "Get:77 http://archive.ubuntu.com/ubuntu jammy/main amd64 ruby-rubygems all 3.3.5-2 [228 kB]\n",
            "Get:78 http://archive.ubuntu.com/ubuntu jammy/main amd64 ruby amd64 1:3.0~exp1 [5,100 B]\n",
            "Get:79 http://archive.ubuntu.com/ubuntu jammy/main amd64 rake all 13.0.6-2 [61.7 kB]\n",
            "Get:80 http://archive.ubuntu.com/ubuntu jammy/main amd64 ruby-net-telnet all 0.1.1-2 [12.6 kB]\n",
            "Get:81 http://archive.ubuntu.com/ubuntu jammy/universe amd64 ruby-webrick all 1.7.0-3 [51.8 kB]\n",
            "Get:82 http://archive.ubuntu.com/ubuntu jammy-updates/main amd64 ruby-xmlrpc all 0.3.2-1ubuntu0.1 [24.9 kB]\n",
            "Get:83 http://archive.ubuntu.com/ubuntu jammy-updates/main amd64 libruby3.0 amd64 3.0.2-7ubuntu2.5 [5,113 kB]\n",
            "Get:84 http://archive.ubuntu.com/ubuntu jammy/main amd64 xfonts-encodings all 1:1.0.5-0ubuntu2 [578 kB]\n",
            "Get:85 http://archive.ubuntu.com/ubuntu jammy/main amd64 xfonts-utils amd64 1:7.7+6build2 [94.6 kB]\n",
            "Get:86 http://archive.ubuntu.com/ubuntu jammy/universe amd64 lmodern all 2.004.5-6.1 [9,471 kB]\n",
            "Get:87 http://archive.ubuntu.com/ubuntu jammy/universe amd64 preview-latex-style all 12.2-1ubuntu1 [185 kB]\n",
            "Get:88 http://archive.ubuntu.com/ubuntu jammy/universe amd64 tex-gyre all 20180621-3.1 [6,209 kB]\n",
            "Get:89 http://archive.ubuntu.com/ubuntu jammy/universe amd64 texlive-fonts-extra all 2021.20220204-1 [484 MB]\n",
            "Get:90 http://archive.ubuntu.com/ubuntu jammy/universe amd64 fonts-stix all 1.1.1-4.1 [589 kB]\n",
            "Get:91 http://archive.ubuntu.com/ubuntu jammy/universe amd64 texlive-fonts-extra-links all 2021.20220204-1 [20.3 kB]\n",
            "Get:92 http://archive.ubuntu.com/ubuntu jammy/universe amd64 texlive-fonts-recommended all 2021.20220204-1 [4,972 kB]\n",
            "Get:93 http://archive.ubuntu.com/ubuntu jammy/universe amd64 libfontbox-java all 1:1.8.16-2 [207 kB]\n",
            "Get:94 http://archive.ubuntu.com/ubuntu jammy/universe amd64 libpdfbox-java all 1:1.8.16-2 [5,199 kB]\n",
            "Get:95 http://archive.ubuntu.com/ubuntu jammy/universe amd64 texlive-pictures all 2021.20220204-1 [8,720 kB]\n",
            "Get:96 http://archive.ubuntu.com/ubuntu jammy/universe amd64 texlive-latex-extra all 2021.20220204-1 [13.9 MB]\n",
            "Get:97 http://archive.ubuntu.com/ubuntu jammy/universe amd64 texlive-plain-generic all 2021.20220204-1 [27.5 MB]\n",
            "Get:98 http://archive.ubuntu.com/ubuntu jammy/universe amd64 tipa all 2:1.3-21 [2,967 kB]\n",
            "Fetched 738 MB in 26s (28.5 MB/s)\n",
            "Extracting templates from packages: 100%\n",
            "Preconfiguring packages ...\n",
            "Selecting previously unselected package fonts-droid-fallback.\n",
            "(Reading database ... 121918 files and directories currently installed.)\n",
            "Preparing to unpack .../00-fonts-droid-fallback_1%3a6.0.1r16-1.1build1_all.deb ...\n",
            "Unpacking fonts-droid-fallback (1:6.0.1r16-1.1build1) ...\n",
            "Selecting previously unselected package fonts-lato.\n",
            "Preparing to unpack .../01-fonts-lato_2.0-2.1_all.deb ...\n",
            "Unpacking fonts-lato (2.0-2.1) ...\n",
            "Selecting previously unselected package poppler-data.\n",
            "Preparing to unpack .../02-poppler-data_0.4.11-1_all.deb ...\n",
            "Unpacking poppler-data (0.4.11-1) ...\n",
            "Selecting previously unselected package tex-common.\n",
            "Preparing to unpack .../03-tex-common_6.17_all.deb ...\n",
            "Unpacking tex-common (6.17) ...\n",
            "Selecting previously unselected package libkpathsea6:amd64.\n",
            "Preparing to unpack .../04-libkpathsea6_2021.20210626.59705-1ubuntu0.2_amd64.deb ...\n",
            "Unpacking libkpathsea6:amd64 (2021.20210626.59705-1ubuntu0.2) ...\n",
            "Selecting previously unselected package libptexenc1:amd64.\n",
            "Preparing to unpack .../05-libptexenc1_2021.20210626.59705-1ubuntu0.2_amd64.deb ...\n",
            "Unpacking libptexenc1:amd64 (2021.20210626.59705-1ubuntu0.2) ...\n",
            "Selecting previously unselected package libsynctex2:amd64.\n",
            "Preparing to unpack .../06-libsynctex2_2021.20210626.59705-1ubuntu0.2_amd64.deb ...\n",
            "Unpacking libsynctex2:amd64 (2021.20210626.59705-1ubuntu0.2) ...\n",
            "Selecting previously unselected package libtexlua53:amd64.\n",
            "Preparing to unpack .../07-libtexlua53_2021.20210626.59705-1ubuntu0.2_amd64.deb ...\n",
            "Unpacking libtexlua53:amd64 (2021.20210626.59705-1ubuntu0.2) ...\n",
            "Selecting previously unselected package libtexluajit2:amd64.\n",
            "Preparing to unpack .../08-libtexluajit2_2021.20210626.59705-1ubuntu0.2_amd64.deb ...\n",
            "Unpacking libtexluajit2:amd64 (2021.20210626.59705-1ubuntu0.2) ...\n",
            "Selecting previously unselected package t1utils.\n",
            "Preparing to unpack .../09-t1utils_1.41-4build2_amd64.deb ...\n",
            "Unpacking t1utils (1.41-4build2) ...\n",
            "Selecting previously unselected package libteckit0:amd64.\n",
            "Preparing to unpack .../10-libteckit0_2.5.11+ds1-1_amd64.deb ...\n",
            "Unpacking libteckit0:amd64 (2.5.11+ds1-1) ...\n",
            "Selecting previously unselected package libzzip-0-13:amd64.\n",
            "Preparing to unpack .../11-libzzip-0-13_0.13.72+dfsg.1-1.1_amd64.deb ...\n",
            "Unpacking libzzip-0-13:amd64 (0.13.72+dfsg.1-1.1) ...\n",
            "Selecting previously unselected package texlive-binaries.\n",
            "Preparing to unpack .../12-texlive-binaries_2021.20210626.59705-1ubuntu0.2_amd64.deb ...\n",
            "Unpacking texlive-binaries (2021.20210626.59705-1ubuntu0.2) ...\n",
            "Selecting previously unselected package texlive-base.\n",
            "Preparing to unpack .../13-texlive-base_2021.20220204-1_all.deb ...\n",
            "Unpacking texlive-base (2021.20220204-1) ...\n",
            "Selecting previously unselected package fonts-lmodern.\n",
            "Preparing to unpack .../14-fonts-lmodern_2.004.5-6.1_all.deb ...\n",
            "Unpacking fonts-lmodern (2.004.5-6.1) ...\n",
            "Selecting previously unselected package texlive-latex-base.\n",
            "Preparing to unpack .../15-texlive-latex-base_2021.20220204-1_all.deb ...\n",
            "Unpacking texlive-latex-base (2021.20220204-1) ...\n",
            "Selecting previously unselected package texlive-latex-recommended.\n",
            "Preparing to unpack .../16-texlive-latex-recommended_2021.20220204-1_all.deb ...\n",
            "Unpacking texlive-latex-recommended (2021.20220204-1) ...\n",
            "Selecting previously unselected package cm-super-minimal.\n",
            "Preparing to unpack .../17-cm-super-minimal_0.3.4-17_all.deb ...\n",
            "Unpacking cm-super-minimal (0.3.4-17) ...\n",
            "Selecting previously unselected package pfb2t1c2pfb.\n",
            "Preparing to unpack .../18-pfb2t1c2pfb_0.3-11_amd64.deb ...\n",
            "Unpacking pfb2t1c2pfb (0.3-11) ...\n",
            "Selecting previously unselected package cm-super.\n",
            "Preparing to unpack .../19-cm-super_0.3.4-17_all.deb ...\n",
            "Unpacking cm-super (0.3.4-17) ...\n",
            "Selecting previously unselected package fonts-urw-base35.\n",
            "Preparing to unpack .../20-fonts-urw-base35_20200910-1_all.deb ...\n",
            "Unpacking fonts-urw-base35 (20200910-1) ...\n",
            "Selecting previously unselected package libgs9-common.\n",
            "Preparing to unpack .../21-libgs9-common_9.55.0~dfsg1-0ubuntu5.6_all.deb ...\n",
            "Unpacking libgs9-common (9.55.0~dfsg1-0ubuntu5.6) ...\n",
            "Selecting previously unselected package libidn12:amd64.\n",
            "Preparing to unpack .../22-libidn12_1.38-4ubuntu1_amd64.deb ...\n",
            "Unpacking libidn12:amd64 (1.38-4ubuntu1) ...\n",
            "Selecting previously unselected package libijs-0.35:amd64.\n",
            "Preparing to unpack .../23-libijs-0.35_0.35-15build2_amd64.deb ...\n",
            "Unpacking libijs-0.35:amd64 (0.35-15build2) ...\n",
            "Selecting previously unselected package libjbig2dec0:amd64.\n",
            "Preparing to unpack .../24-libjbig2dec0_0.19-3build2_amd64.deb ...\n",
            "Unpacking libjbig2dec0:amd64 (0.19-3build2) ...\n",
            "Selecting previously unselected package libgs9:amd64.\n",
            "Preparing to unpack .../25-libgs9_9.55.0~dfsg1-0ubuntu5.6_amd64.deb ...\n",
            "Unpacking libgs9:amd64 (9.55.0~dfsg1-0ubuntu5.6) ...\n",
            "Selecting previously unselected package ghostscript.\n",
            "Preparing to unpack .../26-ghostscript_9.55.0~dfsg1-0ubuntu5.6_amd64.deb ...\n",
            "Unpacking ghostscript (9.55.0~dfsg1-0ubuntu5.6) ...\n",
            "Selecting previously unselected package dvipng.\n",
            "Preparing to unpack .../27-dvipng_1.15-1.1_amd64.deb ...\n",
            "Unpacking dvipng (1.15-1.1) ...\n",
            "Selecting previously unselected package libwoff1:amd64.\n",
            "Preparing to unpack .../28-libwoff1_1.0.2-1build4_amd64.deb ...\n",
            "Unpacking libwoff1:amd64 (1.0.2-1build4) ...\n",
            "Selecting previously unselected package dvisvgm.\n",
            "Preparing to unpack .../29-dvisvgm_2.13.1-1_amd64.deb ...\n",
            "Unpacking dvisvgm (2.13.1-1) ...\n",
            "Selecting previously unselected package fonts-adf-accanthis.\n",
            "Preparing to unpack .../30-fonts-adf-accanthis_0.20190904-2_all.deb ...\n",
            "Unpacking fonts-adf-accanthis (0.20190904-2) ...\n",
            "Selecting previously unselected package fonts-adf-berenis.\n",
            "Preparing to unpack .../31-fonts-adf-berenis_0.20190904-2_all.deb ...\n",
            "Unpacking fonts-adf-berenis (0.20190904-2) ...\n",
            "Selecting previously unselected package fonts-adf-gillius.\n",
            "Preparing to unpack .../32-fonts-adf-gillius_0.20190904-2_all.deb ...\n",
            "Unpacking fonts-adf-gillius (0.20190904-2) ...\n",
            "Selecting previously unselected package fonts-adf-universalis.\n",
            "Preparing to unpack .../33-fonts-adf-universalis_0.20190904-2_all.deb ...\n",
            "Unpacking fonts-adf-universalis (0.20190904-2) ...\n",
            "Selecting previously unselected package fonts-cabin.\n",
            "Preparing to unpack .../34-fonts-cabin_1.5-3_all.deb ...\n",
            "Unpacking fonts-cabin (1.5-3) ...\n",
            "Selecting previously unselected package fonts-cantarell.\n",
            "Preparing to unpack .../35-fonts-cantarell_0.303-2_all.deb ...\n",
            "Unpacking fonts-cantarell (0.303-2) ...\n",
            "Selecting previously unselected package fonts-comfortaa.\n",
            "Preparing to unpack .../36-fonts-comfortaa_3.001-3_all.deb ...\n",
            "Unpacking fonts-comfortaa (3.001-3) ...\n",
            "Selecting previously unselected package fonts-croscore.\n",
            "Preparing to unpack .../37-fonts-croscore_20201225-1build1_all.deb ...\n",
            "Unpacking fonts-croscore (20201225-1build1) ...\n",
            "Selecting previously unselected package fonts-crosextra-caladea.\n",
            "Preparing to unpack .../38-fonts-crosextra-caladea_20130214-2.1_all.deb ...\n",
            "Unpacking fonts-crosextra-caladea (20130214-2.1) ...\n",
            "Selecting previously unselected package fonts-crosextra-carlito.\n",
            "Preparing to unpack .../39-fonts-crosextra-carlito_20130920-1.1_all.deb ...\n",
            "Unpacking fonts-crosextra-carlito (20130920-1.1) ...\n",
            "Selecting previously unselected package fonts-dejavu-core.\n",
            "Preparing to unpack .../40-fonts-dejavu-core_2.37-2build1_all.deb ...\n",
            "Unpacking fonts-dejavu-core (2.37-2build1) ...\n",
            "Selecting previously unselected package fonts-dejavu-extra.\n",
            "Preparing to unpack .../41-fonts-dejavu-extra_2.37-2build1_all.deb ...\n",
            "Unpacking fonts-dejavu-extra (2.37-2build1) ...\n",
            "Selecting previously unselected package fonts-ebgaramond.\n",
            "Preparing to unpack .../42-fonts-ebgaramond_0.016+git20210310.42d4f9f2-1_all.deb ...\n",
            "Unpacking fonts-ebgaramond (0.016+git20210310.42d4f9f2-1) ...\n",
            "Selecting previously unselected package fonts-ebgaramond-extra.\n",
            "Preparing to unpack .../43-fonts-ebgaramond-extra_0.016+git20210310.42d4f9f2-1_all.deb ...\n",
            "Unpacking fonts-ebgaramond-extra (0.016+git20210310.42d4f9f2-1) ...\n",
            "Selecting previously unselected package fonts-font-awesome.\n",
            "Preparing to unpack .../44-fonts-font-awesome_5.0.10+really4.7.0~dfsg-4.1_all.deb ...\n",
            "Unpacking fonts-font-awesome (5.0.10+really4.7.0~dfsg-4.1) ...\n",
            "Selecting previously unselected package fonts-freefont-otf.\n",
            "Preparing to unpack .../45-fonts-freefont-otf_20120503-10build1_all.deb ...\n",
            "Unpacking fonts-freefont-otf (20120503-10build1) ...\n",
            "Selecting previously unselected package fonts-freefont-ttf.\n",
            "Preparing to unpack .../46-fonts-freefont-ttf_20120503-10build1_all.deb ...\n",
            "Unpacking fonts-freefont-ttf (20120503-10build1) ...\n",
            "Selecting previously unselected package fonts-gfs-artemisia.\n",
            "Preparing to unpack .../47-fonts-gfs-artemisia_1.1-6_all.deb ...\n",
            "Unpacking fonts-gfs-artemisia (1.1-6) ...\n",
            "Selecting previously unselected package fonts-gfs-complutum.\n",
            "Preparing to unpack .../48-fonts-gfs-complutum_1.1-7_all.deb ...\n",
            "Unpacking fonts-gfs-complutum (1.1-7) ...\n",
            "Selecting previously unselected package fonts-gfs-didot.\n",
            "Preparing to unpack .../49-fonts-gfs-didot_1.1-7_all.deb ...\n",
            "Unpacking fonts-gfs-didot (1.1-7) ...\n",
            "Selecting previously unselected package fonts-gfs-neohellenic.\n",
            "Preparing to unpack .../50-fonts-gfs-neohellenic_1.1-7_all.deb ...\n",
            "Unpacking fonts-gfs-neohellenic (1.1-7) ...\n",
            "Selecting previously unselected package fonts-gfs-olga.\n",
            "Preparing to unpack .../51-fonts-gfs-olga_1.1-6_all.deb ...\n",
            "Unpacking fonts-gfs-olga (1.1-6) ...\n",
            "Selecting previously unselected package fonts-gfs-solomos.\n",
            "Preparing to unpack .../52-fonts-gfs-solomos_1.1-6_all.deb ...\n",
            "Unpacking fonts-gfs-solomos (1.1-6) ...\n",
            "Selecting previously unselected package fonts-go.\n",
            "Preparing to unpack .../53-fonts-go_0~20170330-1_all.deb ...\n",
            "Unpacking fonts-go (0~20170330-1) ...\n",
            "Selecting previously unselected package fonts-junicode.\n",
            "Preparing to unpack .../54-fonts-junicode_1.002-2_all.deb ...\n",
            "Unpacking fonts-junicode (1.002-2) ...\n",
            "Selecting previously unselected package fonts-linuxlibertine.\n",
            "Preparing to unpack .../55-fonts-linuxlibertine_5.3.0-6_all.deb ...\n",
            "Unpacking fonts-linuxlibertine (5.3.0-6) ...\n",
            "Selecting previously unselected package fonts-lobster.\n",
            "Preparing to unpack .../56-fonts-lobster_2.0-2.1_all.deb ...\n",
            "Unpacking fonts-lobster (2.0-2.1) ...\n",
            "Selecting previously unselected package fonts-lobstertwo.\n",
            "Preparing to unpack .../57-fonts-lobstertwo_2.0-2.1_all.deb ...\n",
            "Unpacking fonts-lobstertwo (2.0-2.1) ...\n",
            "Selecting previously unselected package fonts-noto-color-emoji.\n",
            "Preparing to unpack .../58-fonts-noto-color-emoji_2.042-0ubuntu0.22.04.1_all.deb ...\n",
            "Unpacking fonts-noto-color-emoji (2.042-0ubuntu0.22.04.1) ...\n",
            "Selecting previously unselected package fonts-noto-core.\n",
            "Preparing to unpack .../59-fonts-noto-core_20201225-1build1_all.deb ...\n",
            "Unpacking fonts-noto-core (20201225-1build1) ...\n",
            "Selecting previously unselected package fonts-noto-mono.\n",
            "Preparing to unpack .../60-fonts-noto-mono_20201225-1build1_all.deb ...\n",
            "Unpacking fonts-noto-mono (20201225-1build1) ...\n",
            "Selecting previously unselected package fonts-oflb-asana-math.\n",
            "Preparing to unpack .../61-fonts-oflb-asana-math_000.907-7build1_all.deb ...\n",
            "Unpacking fonts-oflb-asana-math (000.907-7build1) ...\n",
            "Selecting previously unselected package fonts-open-sans.\n",
            "Preparing to unpack .../62-fonts-open-sans_1.11-2_all.deb ...\n",
            "Unpacking fonts-open-sans (1.11-2) ...\n",
            "Selecting previously unselected package fonts-roboto-unhinted.\n",
            "Preparing to unpack .../63-fonts-roboto-unhinted_2%3a0~20170802-3_all.deb ...\n",
            "Unpacking fonts-roboto-unhinted (2:0~20170802-3) ...\n",
            "Selecting previously unselected package fonts-sil-charis.\n",
            "Preparing to unpack .../64-fonts-sil-charis_6.101-1_all.deb ...\n",
            "Unpacking fonts-sil-charis (6.101-1) ...\n",
            "Selecting previously unselected package fonts-sil-gentium.\n",
            "Preparing to unpack .../65-fonts-sil-gentium_20081126%3a1.03-4_all.deb ...\n",
            "Unpacking fonts-sil-gentium (20081126:1.03-4) ...\n",
            "Selecting previously unselected package fonts-sil-gentium-basic.\n",
            "Preparing to unpack .../66-fonts-sil-gentium-basic_1.102-1.1_all.deb ...\n",
            "Unpacking fonts-sil-gentium-basic (1.102-1.1) ...\n",
            "Selecting previously unselected package fonts-sil-gentiumplus.\n",
            "Preparing to unpack .../67-fonts-sil-gentiumplus_6.101-1_all.deb ...\n",
            "Unpacking fonts-sil-gentiumplus (6.101-1) ...\n",
            "Selecting previously unselected package fonts-sil-gentiumplus-compact.\n",
            "Preparing to unpack .../68-fonts-sil-gentiumplus-compact_5.000-4_all.deb ...\n",
            "Unpacking fonts-sil-gentiumplus-compact (5.000-4) ...\n",
            "Selecting previously unselected package fonts-texgyre.\n",
            "Preparing to unpack .../69-fonts-texgyre_20180621-3.1_all.deb ...\n",
            "Unpacking fonts-texgyre (20180621-3.1) ...\n",
            "Selecting previously unselected package libapache-pom-java.\n",
            "Preparing to unpack .../70-libapache-pom-java_18-1_all.deb ...\n",
            "Unpacking libapache-pom-java (18-1) ...\n",
            "Selecting previously unselected package libcommons-parent-java.\n",
            "Preparing to unpack .../71-libcommons-parent-java_43-1_all.deb ...\n",
            "Unpacking libcommons-parent-java (43-1) ...\n",
            "Selecting previously unselected package libcommons-logging-java.\n",
            "Preparing to unpack .../72-libcommons-logging-java_1.2-2_all.deb ...\n",
            "Unpacking libcommons-logging-java (1.2-2) ...\n",
            "Selecting previously unselected package libfontenc1:amd64.\n",
            "Preparing to unpack .../73-libfontenc1_1%3a1.1.4-1build3_amd64.deb ...\n",
            "Unpacking libfontenc1:amd64 (1:1.1.4-1build3) ...\n",
            "Selecting previously unselected package rubygems-integration.\n",
            "Preparing to unpack .../74-rubygems-integration_1.18_all.deb ...\n",
            "Unpacking rubygems-integration (1.18) ...\n",
            "Selecting previously unselected package ruby3.0.\n",
            "Preparing to unpack .../75-ruby3.0_3.0.2-7ubuntu2.5_amd64.deb ...\n",
            "Unpacking ruby3.0 (3.0.2-7ubuntu2.5) ...\n",
            "Selecting previously unselected package ruby-rubygems.\n",
            "Preparing to unpack .../76-ruby-rubygems_3.3.5-2_all.deb ...\n",
            "Unpacking ruby-rubygems (3.3.5-2) ...\n",
            "Selecting previously unselected package ruby.\n",
            "Preparing to unpack .../77-ruby_1%3a3.0~exp1_amd64.deb ...\n",
            "Unpacking ruby (1:3.0~exp1) ...\n",
            "Selecting previously unselected package rake.\n",
            "Preparing to unpack .../78-rake_13.0.6-2_all.deb ...\n",
            "Unpacking rake (13.0.6-2) ...\n",
            "Selecting previously unselected package ruby-net-telnet.\n",
            "Preparing to unpack .../79-ruby-net-telnet_0.1.1-2_all.deb ...\n",
            "Unpacking ruby-net-telnet (0.1.1-2) ...\n",
            "Selecting previously unselected package ruby-webrick.\n",
            "Preparing to unpack .../80-ruby-webrick_1.7.0-3_all.deb ...\n",
            "Unpacking ruby-webrick (1.7.0-3) ...\n",
            "Selecting previously unselected package ruby-xmlrpc.\n",
            "Preparing to unpack .../81-ruby-xmlrpc_0.3.2-1ubuntu0.1_all.deb ...\n",
            "Unpacking ruby-xmlrpc (0.3.2-1ubuntu0.1) ...\n",
            "Selecting previously unselected package libruby3.0:amd64.\n",
            "Preparing to unpack .../82-libruby3.0_3.0.2-7ubuntu2.5_amd64.deb ...\n",
            "Unpacking libruby3.0:amd64 (3.0.2-7ubuntu2.5) ...\n",
            "Selecting previously unselected package xfonts-encodings.\n",
            "Preparing to unpack .../83-xfonts-encodings_1%3a1.0.5-0ubuntu2_all.deb ...\n",
            "Unpacking xfonts-encodings (1:1.0.5-0ubuntu2) ...\n",
            "Selecting previously unselected package xfonts-utils.\n",
            "Preparing to unpack .../84-xfonts-utils_1%3a7.7+6build2_amd64.deb ...\n",
            "Unpacking xfonts-utils (1:7.7+6build2) ...\n",
            "Selecting previously unselected package lmodern.\n",
            "Preparing to unpack .../85-lmodern_2.004.5-6.1_all.deb ...\n",
            "Unpacking lmodern (2.004.5-6.1) ...\n",
            "Selecting previously unselected package preview-latex-style.\n",
            "Preparing to unpack .../86-preview-latex-style_12.2-1ubuntu1_all.deb ...\n",
            "Unpacking preview-latex-style (12.2-1ubuntu1) ...\n",
            "Selecting previously unselected package tex-gyre.\n",
            "Preparing to unpack .../87-tex-gyre_20180621-3.1_all.deb ...\n",
            "Unpacking tex-gyre (20180621-3.1) ...\n",
            "Selecting previously unselected package texlive-fonts-extra.\n",
            "Preparing to unpack .../88-texlive-fonts-extra_2021.20220204-1_all.deb ...\n",
            "Unpacking texlive-fonts-extra (2021.20220204-1) ...\n",
            "Selecting previously unselected package fonts-stix.\n",
            "Preparing to unpack .../89-fonts-stix_1.1.1-4.1_all.deb ...\n",
            "Unpacking fonts-stix (1.1.1-4.1) ...\n",
            "Selecting previously unselected package texlive-fonts-extra-links.\n",
            "Preparing to unpack .../90-texlive-fonts-extra-links_2021.20220204-1_all.deb ...\n",
            "Unpacking texlive-fonts-extra-links (2021.20220204-1) ...\n",
            "Selecting previously unselected package texlive-fonts-recommended.\n",
            "Preparing to unpack .../91-texlive-fonts-recommended_2021.20220204-1_all.deb ...\n",
            "Unpacking texlive-fonts-recommended (2021.20220204-1) ...\n",
            "Selecting previously unselected package libfontbox-java.\n",
            "Preparing to unpack .../92-libfontbox-java_1%3a1.8.16-2_all.deb ...\n",
            "Unpacking libfontbox-java (1:1.8.16-2) ...\n",
            "Selecting previously unselected package libpdfbox-java.\n",
            "Preparing to unpack .../93-libpdfbox-java_1%3a1.8.16-2_all.deb ...\n",
            "Unpacking libpdfbox-java (1:1.8.16-2) ...\n",
            "Selecting previously unselected package texlive-pictures.\n",
            "Preparing to unpack .../94-texlive-pictures_2021.20220204-1_all.deb ...\n",
            "Unpacking texlive-pictures (2021.20220204-1) ...\n",
            "Selecting previously unselected package texlive-latex-extra.\n",
            "Preparing to unpack .../95-texlive-latex-extra_2021.20220204-1_all.deb ...\n",
            "Unpacking texlive-latex-extra (2021.20220204-1) ...\n",
            "Selecting previously unselected package texlive-plain-generic.\n",
            "Preparing to unpack .../96-texlive-plain-generic_2021.20220204-1_all.deb ...\n",
            "Unpacking texlive-plain-generic (2021.20220204-1) ...\n",
            "Selecting previously unselected package tipa.\n",
            "Preparing to unpack .../97-tipa_2%3a1.3-21_all.deb ...\n",
            "Unpacking tipa (2:1.3-21) ...\n",
            "Setting up pfb2t1c2pfb (0.3-11) ...\n",
            "Setting up fonts-gfs-didot (1.1-7) ...\n",
            "Setting up fonts-gfs-artemisia (1.1-6) ...\n",
            "Setting up fonts-sil-gentium-basic (1.102-1.1) ...\n",
            "Setting up fonts-cantarell (0.303-2) ...\n",
            "Setting up fonts-ebgaramond (0.016+git20210310.42d4f9f2-1) ...\n",
            "Setting up fonts-lato (2.0-2.1) ...\n",
            "Setting up fonts-junicode (1.002-2) ...\n",
            "Setting up fonts-noto-mono (20201225-1build1) ...\n",
            "Setting up libwoff1:amd64 (1.0.2-1build4) ...\n",
            "Setting up fonts-noto-color-emoji (2.042-0ubuntu0.22.04.1) ...\n",
            "Setting up libtexlua53:amd64 (2021.20210626.59705-1ubuntu0.2) ...\n",
            "Setting up fonts-adf-berenis (0.20190904-2) ...\n",
            "Setting up libijs-0.35:amd64 (0.35-15build2) ...\n",
            "Setting up libtexluajit2:amd64 (2021.20210626.59705-1ubuntu0.2) ...\n",
            "Setting up libfontbox-java (1:1.8.16-2) ...\n",
            "Setting up fonts-freefont-otf (20120503-10build1) ...\n",
            "Setting up fonts-freefont-ttf (20120503-10build1) ...\n",
            "Setting up fonts-gfs-solomos (1.1-6) ...\n",
            "Setting up fonts-comfortaa (3.001-3) ...\n",
            "Setting up rubygems-integration (1.18) ...\n",
            "Setting up libzzip-0-13:amd64 (0.13.72+dfsg.1-1.1) ...\n",
            "Setting up fonts-sil-gentiumplus-compact (5.000-4) ...\n",
            "Setting up fonts-roboto-unhinted (2:0~20170802-3) ...\n",
            "Setting up fonts-urw-base35 (20200910-1) ...\n",
            "Setting up fonts-open-sans (1.11-2) ...\n",
            "Setting up fonts-sil-gentiumplus (6.101-1) ...\n",
            "Setting up fonts-gfs-neohellenic (1.1-7) ...\n",
            "Setting up fonts-gfs-olga (1.1-6) ...\n",
            "Setting up fonts-oflb-asana-math (000.907-7build1) ...\n",
            "Setting up poppler-data (0.4.11-1) ...\n",
            "Setting up fonts-crosextra-carlito (20130920-1.1) ...\n",
            "Setting up fonts-adf-accanthis (0.20190904-2) ...\n",
            "Setting up tex-common (6.17) ...\n",
            "update-language: texlive-base not installed and configured, doing nothing!\n",
            "Setting up fonts-sil-gentium (20081126:1.03-4) ...\n",
            "Setting up fonts-adf-universalis (0.20190904-2) ...\n",
            "Setting up libfontenc1:amd64 (1:1.1.4-1build3) ...\n",
            "Setting up fonts-stix (1.1.1-4.1) ...\n",
            "Setting up fonts-sil-charis (6.101-1) ...\n",
            "Setting up libjbig2dec0:amd64 (0.19-3build2) ...\n",
            "Setting up fonts-go (0~20170330-1) ...\n",
            "Setting up libteckit0:amd64 (2.5.11+ds1-1) ...\n",
            "Setting up libapache-pom-java (18-1) ...\n",
            "Setting up ruby-net-telnet (0.1.1-2) ...\n",
            "Setting up fonts-cabin (1.5-3) ...\n",
            "Setting up xfonts-encodings (1:1.0.5-0ubuntu2) ...\n",
            "Setting up t1utils (1.41-4build2) ...\n",
            "Setting up libidn12:amd64 (1.38-4ubuntu1) ...\n",
            "Setting up fonts-dejavu-core (2.37-2build1) ...\n",
            "Setting up fonts-texgyre (20180621-3.1) ...\n",
            "Setting up fonts-linuxlibertine (5.3.0-6) ...\n",
            "Setting up libkpathsea6:amd64 (2021.20210626.59705-1ubuntu0.2) ...\n",
            "Setting up fonts-croscore (20201225-1build1) ...\n",
            "Setting up ruby-webrick (1.7.0-3) ...\n",
            "Setting up fonts-dejavu-extra (2.37-2build1) ...\n",
            "Setting up fonts-gfs-complutum (1.1-7) ...\n",
            "Setting up fonts-crosextra-caladea (20130214-2.1) ...\n",
            "Setting up fonts-lmodern (2.004.5-6.1) ...\n",
            "Setting up fonts-ebgaramond-extra (0.016+git20210310.42d4f9f2-1) ...\n",
            "Setting up fonts-lobster (2.0-2.1) ...\n",
            "Setting up fonts-droid-fallback (1:6.0.1r16-1.1build1) ...\n",
            "Setting up fonts-adf-gillius (0.20190904-2) ...\n",
            "Setting up ruby-xmlrpc (0.3.2-1ubuntu0.1) ...\n",
            "Setting up fonts-noto-core (20201225-1build1) ...\n",
            "Setting up fonts-font-awesome (5.0.10+really4.7.0~dfsg-4.1) ...\n",
            "Setting up libsynctex2:amd64 (2021.20210626.59705-1ubuntu0.2) ...\n",
            "Setting up libgs9-common (9.55.0~dfsg1-0ubuntu5.6) ...\n",
            "Setting up libpdfbox-java (1:1.8.16-2) ...\n",
            "Setting up libgs9:amd64 (9.55.0~dfsg1-0ubuntu5.6) ...\n",
            "Setting up preview-latex-style (12.2-1ubuntu1) ...\n",
            "Setting up libcommons-parent-java (43-1) ...\n",
            "Setting up dvisvgm (2.13.1-1) ...\n",
            "Setting up libcommons-logging-java (1.2-2) ...\n",
            "Setting up ghostscript (9.55.0~dfsg1-0ubuntu5.6) ...\n",
            "Setting up xfonts-utils (1:7.7+6build2) ...\n",
            "Setting up fonts-lobstertwo (2.0-2.1) ...\n",
            "Setting up libptexenc1:amd64 (2021.20210626.59705-1ubuntu0.2) ...\n",
            "Setting up texlive-fonts-extra-links (2021.20220204-1) ...\n",
            "Setting up texlive-binaries (2021.20210626.59705-1ubuntu0.2) ...\n",
            "update-alternatives: using /usr/bin/xdvi-xaw to provide /usr/bin/xdvi.bin (xdvi.bin) in auto mode\n",
            "update-alternatives: using /usr/bin/bibtex.original to provide /usr/bin/bibtex (bibtex) in auto mode\n",
            "Setting up lmodern (2.004.5-6.1) ...\n",
            "Setting up texlive-base (2021.20220204-1) ...\n",
            "/usr/bin/ucfr\n",
            "/usr/bin/ucfr\n",
            "/usr/bin/ucfr\n",
            "/usr/bin/ucfr\n",
            "mktexlsr: Updating /var/lib/texmf/ls-R-TEXLIVEDIST... \n",
            "mktexlsr: Updating /var/lib/texmf/ls-R-TEXMFMAIN... \n",
            "mktexlsr: Updating /var/lib/texmf/ls-R... \n",
            "mktexlsr: Done.\n",
            "tl-paper: setting paper size for dvips to a4: /var/lib/texmf/dvips/config/config-paper.ps\n",
            "tl-paper: setting paper size for dvipdfmx to a4: /var/lib/texmf/dvipdfmx/dvipdfmx-paper.cfg\n",
            "tl-paper: setting paper size for xdvi to a4: /var/lib/texmf/xdvi/XDvi-paper\n",
            "tl-paper: setting paper size for pdftex to a4: /var/lib/texmf/tex/generic/tex-ini-files/pdftexconfig.tex\n",
            "Setting up tex-gyre (20180621-3.1) ...\n",
            "Setting up dvipng (1.15-1.1) ...\n",
            "Setting up texlive-plain-generic (2021.20220204-1) ...\n",
            "Setting up texlive-latex-base (2021.20220204-1) ...\n",
            "Setting up texlive-fonts-extra (2021.20220204-1) ...\n",
            "Setting up texlive-latex-recommended (2021.20220204-1) ...\n",
            "Setting up texlive-pictures (2021.20220204-1) ...\n",
            "Setting up texlive-fonts-recommended (2021.20220204-1) ...\n",
            "Setting up tipa (2:1.3-21) ...\n",
            "Setting up cm-super-minimal (0.3.4-17) ...\n",
            "Setting up texlive-latex-extra (2021.20220204-1) ...\n",
            "Setting up cm-super (0.3.4-17) ...\n",
            "Creating fonts. This may take some time... done.\n",
            "Setting up rake (13.0.6-2) ...\n",
            "Setting up libruby3.0:amd64 (3.0.2-7ubuntu2.5) ...\n",
            "Setting up ruby3.0 (3.0.2-7ubuntu2.5) ...\n",
            "Setting up ruby (1:3.0~exp1) ...\n",
            "Setting up ruby-rubygems (3.3.5-2) ...\n",
            "Processing triggers for man-db (2.10.2-1) ...\n",
            "Processing triggers for fontconfig (2.13.1-4.2ubuntu5) ...\n",
            "Processing triggers for libc-bin (2.35-0ubuntu3.4) ...\n",
            "/sbin/ldconfig.real: /usr/local/lib/libtbbbind_2_5.so.3 is not a symbolic link\n",
            "\n",
            "/sbin/ldconfig.real: /usr/local/lib/libtbbmalloc.so.2 is not a symbolic link\n",
            "\n",
            "/sbin/ldconfig.real: /usr/local/lib/libtbbbind.so.3 is not a symbolic link\n",
            "\n",
            "/sbin/ldconfig.real: /usr/local/lib/libtbbmalloc_proxy.so.2 is not a symbolic link\n",
            "\n",
            "/sbin/ldconfig.real: /usr/local/lib/libtbb.so.12 is not a symbolic link\n",
            "\n",
            "/sbin/ldconfig.real: /usr/local/lib/libtbbbind_2_0.so.3 is not a symbolic link\n",
            "\n",
            "Processing triggers for tex-common (6.17) ...\n",
            "Running updmap-sys. This may take some time... done.\n",
            "Running mktexlsr /var/lib/texmf ... done.\n",
            "Building format(s) --all.\n",
            "\tThis may take some time... done.\n"
          ]
        }
      ],
      "source": [
        "!apt install texlive-fonts-recommended texlive-fonts-extra cm-super dvipng"
      ]
    },
    {
      "cell_type": "code",
      "execution_count": null,
      "metadata": {
        "id": "DRTUuzlgemRS",
        "colab": {
          "base_uri": "https://localhost:8080/"
        },
        "outputId": "9c5ed48b-0546-42e2-9e57-698024780e13"
      },
      "outputs": [
        {
          "output_type": "stream",
          "name": "stdout",
          "text": [
            "Collecting pennylane\n",
            "  Downloading PennyLane-0.36.0-py3-none-any.whl (1.7 MB)\n",
            "\u001b[2K     \u001b[90m━━━━━━━━━━━━━━━━━━━━━━━━━━━━━━━━━━━━━━━━\u001b[0m \u001b[32m1.7/1.7 MB\u001b[0m \u001b[31m10.6 MB/s\u001b[0m eta \u001b[36m0:00:00\u001b[0m\n",
            "\u001b[?25hRequirement already satisfied: numpy<2.0 in /usr/local/lib/python3.10/dist-packages (from pennylane) (1.25.2)\n",
            "Requirement already satisfied: scipy in /usr/local/lib/python3.10/dist-packages (from pennylane) (1.11.4)\n",
            "Requirement already satisfied: networkx in /usr/local/lib/python3.10/dist-packages (from pennylane) (3.3)\n",
            "Collecting rustworkx (from pennylane)\n",
            "  Downloading rustworkx-0.14.2-cp310-cp310-manylinux_2_17_x86_64.manylinux2014_x86_64.whl (2.1 MB)\n",
            "\u001b[2K     \u001b[90m━━━━━━━━━━━━━━━━━━━━━━━━━━━━━━━━━━━━━━━━\u001b[0m \u001b[32m2.1/2.1 MB\u001b[0m \u001b[31m40.3 MB/s\u001b[0m eta \u001b[36m0:00:00\u001b[0m\n",
            "\u001b[?25hRequirement already satisfied: autograd in /usr/local/lib/python3.10/dist-packages (from pennylane) (1.6.2)\n",
            "Requirement already satisfied: toml in /usr/local/lib/python3.10/dist-packages (from pennylane) (0.10.2)\n",
            "Requirement already satisfied: appdirs in /usr/local/lib/python3.10/dist-packages (from pennylane) (1.4.4)\n",
            "Collecting semantic-version>=2.7 (from pennylane)\n",
            "  Downloading semantic_version-2.10.0-py2.py3-none-any.whl (15 kB)\n",
            "Collecting autoray>=0.6.1 (from pennylane)\n",
            "  Downloading autoray-0.6.11-py3-none-any.whl (50 kB)\n",
            "\u001b[2K     \u001b[90m━━━━━━━━━━━━━━━━━━━━━━━━━━━━━━━━━━━━━━━━\u001b[0m \u001b[32m50.8/50.8 kB\u001b[0m \u001b[31m5.8 MB/s\u001b[0m eta \u001b[36m0:00:00\u001b[0m\n",
            "\u001b[?25hRequirement already satisfied: cachetools in /usr/local/lib/python3.10/dist-packages (from pennylane) (5.3.3)\n",
            "Collecting pennylane-lightning>=0.36 (from pennylane)\n",
            "  Downloading PennyLane_Lightning-0.36.0-cp310-cp310-manylinux_2_17_x86_64.manylinux2014_x86_64.whl (19.1 MB)\n",
            "\u001b[2K     \u001b[90m━━━━━━━━━━━━━━━━━━━━━━━━━━━━━━━━━━━━━━━━\u001b[0m \u001b[32m19.1/19.1 MB\u001b[0m \u001b[31m41.1 MB/s\u001b[0m eta \u001b[36m0:00:00\u001b[0m\n",
            "\u001b[?25hRequirement already satisfied: requests in /usr/local/lib/python3.10/dist-packages (from pennylane) (2.31.0)\n",
            "Requirement already satisfied: typing-extensions in /usr/local/lib/python3.10/dist-packages (from pennylane) (4.11.0)\n",
            "Requirement already satisfied: future>=0.15.2 in /usr/local/lib/python3.10/dist-packages (from autograd->pennylane) (0.18.3)\n",
            "Requirement already satisfied: charset-normalizer<4,>=2 in /usr/local/lib/python3.10/dist-packages (from requests->pennylane) (3.3.2)\n",
            "Requirement already satisfied: idna<4,>=2.5 in /usr/local/lib/python3.10/dist-packages (from requests->pennylane) (3.7)\n",
            "Requirement already satisfied: urllib3<3,>=1.21.1 in /usr/local/lib/python3.10/dist-packages (from requests->pennylane) (2.0.7)\n",
            "Requirement already satisfied: certifi>=2017.4.17 in /usr/local/lib/python3.10/dist-packages (from requests->pennylane) (2024.2.2)\n",
            "Installing collected packages: semantic-version, rustworkx, autoray, pennylane-lightning, pennylane\n",
            "Successfully installed autoray-0.6.11 pennylane-0.36.0 pennylane-lightning-0.36.0 rustworkx-0.14.2 semantic-version-2.10.0\n"
          ]
        }
      ],
      "source": [
        "!pip install pennylane"
      ]
    },
    {
      "cell_type": "code",
      "execution_count": null,
      "metadata": {
        "id": "XbyG2T1BfRa0"
      },
      "outputs": [],
      "source": [
        "import matplotlib.pyplot as plt\n",
        "import numpy as np\n",
        "import pickle"
      ]
    },
    {
      "cell_type": "code",
      "execution_count": null,
      "metadata": {
        "id": "iAakQRiie4ft"
      },
      "outputs": [],
      "source": [
        "params = {'text.usetex' : True,\n",
        "          'font.size' : 11,\n",
        "          'lines.markersize': 2,\n",
        "          'lines.linewidth':1,\n",
        "          'axes.labelpad': 1,\n",
        "          'axes.labelpad': 1,\n",
        "          'axes.facecolor': 'white'\n",
        "          }\n",
        "\n",
        "plt.rc('text.latex', preamble=r'\\usepackage{amsfonts}')\n",
        "\n",
        "plt.rcParams.update(params)"
      ]
    },
    {
      "cell_type": "code",
      "execution_count": null,
      "metadata": {
        "id": "ku9_y4osfR_Q"
      },
      "outputs": [],
      "source": [
        "file = open(\"Num_Orbs_LiH\",'rb')\n",
        "O_dict = pickle.load(file)"
      ]
    },
    {
      "cell_type": "code",
      "execution_count": null,
      "metadata": {
        "colab": {
          "base_uri": "https://localhost:8080/",
          "height": 665
        },
        "id": "nMP8nz9agDxx",
        "outputId": "dacfc692-7bef-44b3-c4d8-7d1e8badf257"
      },
      "outputs": [
        {
          "output_type": "stream",
          "name": "stderr",
          "text": [
            "/usr/local/lib/python3.10/dist-packages/matplotlib/cbook/__init__.py:1335: ComplexWarning: Casting complex values to real discards the imaginary part\n",
            "  return np.asarray(x, float)\n"
          ]
        },
        {
          "output_type": "display_data",
          "data": {
            "text/plain": [
              "<Figure size 364.5x688.5 with 2 Axes>"
            ],
            "image/png": "[encoded data removed]"
          },
          "metadata": {}
        }
      ],
      "source": [
        "fig,axes = plt.subplots(2,1,sharex = True,sharey = False, figsize =  (1.35*3.375*0.8,1.35*0.85*3.375*2*8/9),squeeze = False)#,width_ratios=[1,1.04])\n",
        "plt.subplots_adjust(hspace=0.01)\n",
        "r_lst=[0.4,0.8,1.2,1.6,2.0,2.4,2.8,3.2,3.6,4.0]\n",
        "ob_lst=[2,3,4,5,6]\n",
        "for ob in ob_lst:\n",
        "    if ob==6:\n",
        "        axes[0,0].plot(r_lst[:-1],O_dict[ob][0][:-1],label='Exact Ground State')\n",
        "    else:\n",
        "        axes[0,0].plot(r_lst[:-1],O_dict[ob][0][:-1],label='G: '+str(ob)+' obitals')\n",
        "\n",
        "for ob in ob_lst:\n",
        "    if ob==6:\n",
        "\n",
        "        axes[0,0].plot(r_lst[:-1],O_dict[ob][1][:-1],'--',label='Exact First Excited State')\n",
        "    else:\n",
        "        axes[0,0].plot(r_lst[:-1],O_dict[ob][1][:-1],'--',label='E: '+str(ob)+' obitals')\n",
        "    #plt.plot(r_lst,O_dict[ob][2],':',label='S E'+str(ob))\n",
        "#axes[0,0].set_xlabel(r\"$\\mathrm{Atomic}$ $\\mathrm{Unit}$\",fontsize=14)\n",
        "axes[0,0].set_ylabel(r\"$\\mathrm{Ha}$\",fontsize=14)\n",
        "axes[0,0].legend(bbox_to_anchor=(0.48, 1.0),loc='upper center',frameon=False,labelspacing = 0.09,handlelength=0.7)\n",
        "axes[0,0].text(0.02,0.95,r\"$\\textbf{(a)}$\",transform=axes[0,0].transAxes)\n",
        "\n",
        "r_lst=[0.4,0.8,1.2,1.6,2.0,2.4,2.8,3.2,3.6,4.0]\n",
        "ob_lst=[2,3,4,5]\n",
        "for ob in ob_lst:\n",
        "    Rel_e=np.abs(np.array(O_dict[ob][0][:-1])-np.array(O_dict[6][0][:-1]))*100/np.abs(O_dict[6][0][:-1])\n",
        "    axes[1,0].scatter(r_lst[:-1],Rel_e,label='G: '+str(ob)+' obitals',s=12)\n",
        "\n",
        "for ob in ob_lst:\n",
        "    Rel_e=np.abs(np.array(O_dict[ob][1][:-1])-np.array(O_dict[6][1][:-1]))*100/np.abs(O_dict[6][1][:-1])\n",
        "    axes[1,0].scatter(r_lst[:-1],Rel_e,label='E: '+str(ob)+' obitals',s=12)\n",
        "    #plt.plot(r_lst,O_dict[ob][2],':',label='S E'+str(ob))\n",
        "axes[1,0].set_xlabel(r\"$\\mathrm{Atomic}$ $\\mathrm{Unit}$\",fontsize=14)\n",
        "axes[1,0].set_ylabel(r\"$\\mathrm{Relative}$ $\\mathrm{Error}$ $\\mathrm{(\\%)}$\",fontsize=14)\n",
        "axes[1,0].legend(bbox_to_anchor=(1.02, 0.45),loc='center right',frameon=False,labelspacing = 0.09,handlelength=0.7)\n",
        "axes[1,0].text(0.02,0.95,r\"$\\textbf{(b)}$\",transform=axes[1,0].transAxes)\n",
        "axes[1,0].set_yscale('log')\n",
        "\n",
        "plt.savefig(\"Orb_Re.png\",dpi = 300,bbox_inches='tight',facecolor='white',transparent=False)"
      ]
    },
    {
      "cell_type": "code",
      "execution_count": null,
      "metadata": {
        "id": "WTqOPjncgI_9"
      },
      "outputs": [],
      "source": [
        "with open('VQD_S0.npy', 'rb') as f:\n",
        "    E0_arr = np.load(f)\n",
        "\n",
        "with open('VQD_T1.npy', 'rb') as f:\n",
        "    E1_arr = np.load(f)\n",
        "\n",
        "with open('VQD_S1.npy', 'rb') as f:\n",
        "    E2_arr = np.load(f)"
      ]
    },
    {
      "cell_type": "code",
      "execution_count": null,
      "metadata": {
        "id": "GkaHohtqxrEp"
      },
      "outputs": [],
      "source": [
        "for i in  range(10):\n",
        "    E_lst=[E0_arr[i],E1_arr[i],E2_arr[i]]\n",
        "    E0_arr[i],E1_arr[i],E2_arr[i]=np.sort(E_lst)\n"
      ]
    },
    {
      "cell_type": "code",
      "execution_count": null,
      "metadata": {
        "colab": {
          "base_uri": "https://localhost:8080/"
        },
        "id": "sIffH43YzOer",
        "outputId": "b3a672e8-5d17-427c-ef6e-43f1f600fa9f"
      },
      "outputs": [
        {
          "output_type": "execute_result",
          "data": {
            "text/plain": [
              "array([-6.56991067, -7.51262254, -7.70593583, -7.74837642, -7.74970617,\n",
              "       -7.74371822, -7.73088843, -7.71707305, -7.69217668, -7.69435889])"
            ]
          },
          "metadata": {},
          "execution_count": 10
        }
      ],
      "source": [
        "E2_arr"
      ]
    },
    {
      "cell_type": "code",
      "execution_count": null,
      "metadata": {
        "colab": {
          "base_uri": "https://localhost:8080/",
          "height": 503
        },
        "id": "R66zacawoQUG",
        "outputId": "aac9befc-4bb0-4720-9dfc-9695de9a11ba"
      },
      "outputs": [
        {
          "output_type": "stream",
          "name": "stderr",
          "text": [
            "/usr/local/lib/python3.10/dist-packages/matplotlib/cbook/__init__.py:1335: ComplexWarning: Casting complex values to real discards the imaginary part\n",
            "  return np.asarray(x, float)\n"
          ]
        },
        {
          "output_type": "execute_result",
          "data": {
            "text/plain": [
              "<matplotlib.collections.PathCollection at 0x7f8e4423c640>"
            ]
          },
          "metadata": {},
          "execution_count": 11
        },
        {
          "output_type": "display_data",
          "data": {
            "text/plain": [
              "<Figure size 640x480 with 1 Axes>"
            ],
            "image/png": "[encoded data removed]"
          },
          "metadata": {}
        }
      ],
      "source": [
        "#fig,axes = plt.subplots(2,1,sharex = True,sharey = False, figsize = (1.25*3.375*55/52*0.95,1.25*3.375*2*0.95),squeeze = False)#,width_ratios=[1,1.04])\n",
        "#plt.subplots_adjust(hspace=0.01)\n",
        "plt.plot(r_lst[:-1],O_dict[6][0][:-1])\n",
        "plt.plot(r_lst[:-1],O_dict[6][1][:-1])\n",
        "plt.plot(r_lst[:-1],O_dict[6][2][:-1])\n",
        "\n",
        "plt.scatter(r_lst[:-1],E0_arr[:-1],c='r')\n",
        "plt.scatter(r_lst[:-1],E1_arr[:-1],c='k')\n",
        "plt.scatter(r_lst[:-1],E2_arr[:-1],c='b')"
      ]
    },
    {
      "cell_type": "code",
      "execution_count": null,
      "metadata": {
        "id": "c1m3Vsv-t2SC"
      },
      "outputs": [],
      "source": [
        "with open('SSVQE_S0.npy', 'rb') as f:\n",
        "    E0_S_arr = np.load(f)\n",
        "\n",
        "with open('SSVQE_T1.npy', 'rb') as f:\n",
        "    E1_S_arr = np.load(f)\n",
        "\n",
        "with open('SSVQE_S1.npy', 'rb') as f:\n",
        "    E2_S_arr = np.load(f)"
      ]
    },
    {
      "cell_type": "code",
      "execution_count": null,
      "metadata": {
        "colab": {
          "base_uri": "https://localhost:8080/",
          "height": 503
        },
        "id": "iTVEUp5ht8o9",
        "outputId": "adeb195b-c032-46ac-cf8a-dd18cd94f35d"
      },
      "outputs": [
        {
          "output_type": "stream",
          "name": "stderr",
          "text": [
            "/usr/local/lib/python3.10/dist-packages/matplotlib/cbook/__init__.py:1335: ComplexWarning: Casting complex values to real discards the imaginary part\n",
            "  return np.asarray(x, float)\n"
          ]
        },
        {
          "output_type": "execute_result",
          "data": {
            "text/plain": [
              "<matplotlib.collections.PathCollection at 0x7f8e442af640>"
            ]
          },
          "metadata": {},
          "execution_count": 13
        },
        {
          "output_type": "display_data",
          "data": {
            "text/plain": [
              "<Figure size 640x480 with 1 Axes>"
            ],
            "image/png": "[encoded data removed]"
          },
          "metadata": {}
        }
      ],
      "source": [
        "plt.plot(r_lst[:-1],O_dict[6][0][:-1])\n",
        "plt.plot(r_lst[:-1],O_dict[6][1][:-1])\n",
        "plt.plot(r_lst[:-1],O_dict[6][2][:-1])\n",
        "\n",
        "plt.scatter(r_lst[:-1],E0_S_arr[:-1],c='r')\n",
        "plt.scatter(r_lst[:-1],E1_S_arr[:-1],c='k')\n",
        "plt.scatter(r_lst[:-1],E2_S_arr[:-1],c='b')"
      ]
    },
    {
      "cell_type": "code",
      "execution_count": null,
      "metadata": {
        "id": "vXPVZZCFxwCJ"
      },
      "outputs": [],
      "source": [
        "Rel0=np.abs(np.array(O_dict[6][0])-E0_arr)/np.abs(np.array(O_dict[6][0]))\n",
        "Rel1=np.abs(np.array(O_dict[6][1])-E1_arr)/np.abs(np.array(O_dict[6][1]))\n",
        "Rel2=np.abs(np.array(O_dict[6][2])-E2_arr)/np.abs(np.array(O_dict[6][2]))"
      ]
    },
    {
      "cell_type": "code",
      "execution_count": null,
      "metadata": {
        "id": "3UHKBDLduIuB"
      },
      "outputs": [],
      "source": [
        "Rel0_S=np.abs(np.array(O_dict[6][0])-E0_S_arr)/np.abs(np.array(O_dict[6][0]))\n",
        "Rel1_S=np.abs(np.array(O_dict[6][1])-E1_S_arr)/np.abs(np.array(O_dict[6][1]))\n",
        "Rel2_S=np.abs(np.array(O_dict[6][2])-E2_S_arr)/np.abs(np.array(O_dict[6][2]))"
      ]
    },
    {
      "cell_type": "code",
      "execution_count": null,
      "metadata": {
        "colab": {
          "base_uri": "https://localhost:8080/",
          "height": 373
        },
        "id": "rj2Q6fzjok4d",
        "outputId": "2e2ff9d1-b9d5-43b5-bde7-f2ba0f8a70ae"
      },
      "outputs": [
        {
          "output_type": "display_data",
          "data": {
            "text/plain": [
              "<Figure size 455.625x387.281 with 4 Axes>"
            ],
            "image/png": "[encoded data removed]"
          },
          "metadata": {}
        }
      ],
      "source": [
        "fig,axes = plt.subplots(2,2,sharex = True,sharey = False, figsize = (1.35*3.375,1.35*0.85*3.375),squeeze = False)#,width_ratios=[1,1.04])\n",
        "plt.subplots_adjust(hspace=0.01,wspace=0.03)\n",
        "\n",
        "\n",
        "\n",
        "axes[1,0].scatter(r_lst[:-1],Rel0[:-1]*100,s=7,c='r',label='VQD S0')\n",
        "axes[1,0].scatter(r_lst[:-1],Rel1[:-1]*100,s=7,c='b',label='VQD T1')\n",
        "axes[1,0].scatter(r_lst[:-1],Rel2[:-1]*100,s=7,c='k',label='VQD S1')\n",
        "axes[1,0].set_yscale('log')\n",
        "axes[1,0].set_ylim(0.002,0.45)\n",
        "#axes[1,0].set_yticks([0.02,0.04,0.06,0.08])\n",
        "\n",
        "axes[1,0].set_xlabel(r\"$\\mathrm{Atomic}$ $\\mathrm{Unit}$\")\n",
        "axes[1,0].set_ylabel(r\"$\\mathrm{Relative}$ $\\mathrm{Error}$ $\\mathrm{(\\%)}$\")\n",
        "axes[1,0].text(0.1,0.9,r\"$\\textbf{(c)}$\",transform=axes[1,0].transAxes)\n",
        "#axes[0,0].grid()\n",
        "\n",
        "axes[0,0].plot(r_lst[:-1],O_dict[6][0][:-1],label='Exact S0')\n",
        "axes[0,0].plot(r_lst[:-1],O_dict[6][1][:-1],label='Exact T1')\n",
        "axes[0,0].plot(r_lst[:-1],O_dict[6][2][:-1],label='Exact S1')\n",
        "\n",
        "axes[0,0].scatter(r_lst[:-1],E0_arr[:-1],s=7,c='r',label='VQD S0')\n",
        "axes[0,0].scatter(r_lst[:-1],E1_arr[:-1],s=7,c='k',label='VQD T1')\n",
        "axes[0,0].scatter(r_lst[:-1],E2_arr[:-1],s=7,c='b',label='VQD S1')\n",
        "\n",
        "axes[0,0].text(0.1,0.9,r\"$\\textbf{(a)}$\",transform=axes[0,0].transAxes)\n",
        "axes[0,0].legend(frameon=False,labelspacing = 0.09,handlelength=0.7)\n",
        "axes[0,0].set_ylabel(r\"$\\mathrm{Ha}$\")\n",
        "\n",
        "axes[0,1].plot(r_lst[:-1],O_dict[6][0][:-1])\n",
        "axes[0,1].plot(r_lst[:-1],O_dict[6][1][:-1])\n",
        "axes[0,1].plot(r_lst[:-1],O_dict[6][2][:-1])\n",
        "\n",
        "axes[0,1].scatter(r_lst[:-1],E0_S_arr[:-1],s=7,marker='^',c='r',label='SSVQE S0')\n",
        "axes[0,1].scatter(r_lst[:-1],E1_S_arr[:-1],s=7,marker='^',c='k',label='SSVQE T1')\n",
        "axes[0,1].scatter(r_lst[:-1],E2_S_arr[:-1],s=7,marker='^',c='b',label='SSVQE S1')\n",
        "axes[0,1].set_yticks([])\n",
        "axes[0,1].legend(frameon=False,labelspacing = 0.09,handlelength=0.7)\n",
        "axes[0,1].text(0.1,0.9,r\"$\\textbf{(b)}$\",transform=axes[0,1].transAxes)\n",
        "\n",
        "\n",
        "axes[1,1].scatter(r_lst[:-1],Rel0_S[:-1]*100,s=7,marker='^',c='r',label='VQD S0')\n",
        "axes[1,1].scatter(r_lst[:-1],Rel1_S[:-1]*100,s=7,marker='^',c='b',label='VQD T1')\n",
        "axes[1,1].scatter(r_lst[:-1],Rel2_S[:-1]*100,s=7,marker='^',c='k',label='VQD S1')\n",
        "axes[1,1].set_yscale('log')\n",
        "axes[1,1].set_ylim(0.002,0.45)\n",
        "axes[1,1].set_yticks([])\n",
        "\n",
        "axes[1,1].text(0.1,0.9,r\"$\\textbf{(d)}$\",transform=axes[1,1].transAxes)\n",
        "axes[1,1].set_xlabel(r\"$\\mathrm{Atomic}$ $\\mathrm{Unit}$\")\n",
        "plt.savefig(\"Compar_1.png\",dpi = 300,bbox_inches='tight',facecolor='white',transparent=False)\n"
      ]
    },
    {
      "cell_type": "code",
      "source": [
        "with open('VQD_iter1.npy', 'rb') as f:\n",
        "    iter1 = np.load(f)\n",
        "\n",
        "with open('VQD_iter2.npy', 'rb') as f:\n",
        "    iter2 = np.load(f)\n",
        "\n",
        "with open('VQD_iter3.npy', 'rb') as f:\n",
        "    iter3 = np.load(f)"
      ],
      "metadata": {
        "id": "AUimuZ3m1ylR"
      },
      "execution_count": null,
      "outputs": []
    },
    {
      "cell_type": "code",
      "source": [
        "np.mean(iter1[:-1])"
      ],
      "metadata": {
        "colab": {
          "base_uri": "https://localhost:8080/"
        },
        "id": "FIrkV8EPG9u7",
        "outputId": "44a22986-158b-4ae8-9025-849fe2429a82"
      },
      "execution_count": null,
      "outputs": [
        {
          "output_type": "execute_result",
          "data": {
            "text/plain": [
              "66.44444444444444"
            ]
          },
          "metadata": {},
          "execution_count": 18
        }
      ]
    },
    {
      "cell_type": "code",
      "source": [
        "np.mean(iter2[:-1])"
      ],
      "metadata": {
        "colab": {
          "base_uri": "https://localhost:8080/"
        },
        "id": "DElVaVs6HBcD",
        "outputId": "6fe19f98-36c3-4861-e8e9-bb21277c9a30"
      },
      "execution_count": null,
      "outputs": [
        {
          "output_type": "execute_result",
          "data": {
            "text/plain": [
              "66.55555555555556"
            ]
          },
          "metadata": {},
          "execution_count": 19
        }
      ]
    },
    {
      "cell_type": "code",
      "source": [
        "np.mean(iter3[:-1])"
      ],
      "metadata": {
        "colab": {
          "base_uri": "https://localhost:8080/"
        },
        "id": "bU37l7sCHEYS",
        "outputId": "d171d938-e04d-41a9-de50-8b9aaa60fe95"
      },
      "execution_count": null,
      "outputs": [
        {
          "output_type": "execute_result",
          "data": {
            "text/plain": [
              "71.88888888888889"
            ]
          },
          "metadata": {},
          "execution_count": 20
        }
      ]
    },
    {
      "cell_type": "code",
      "source": [
        "np.mean((iter1[:-1]+iter2[:-1]+iter3[:-1])/3)"
      ],
      "metadata": {
        "colab": {
          "base_uri": "https://localhost:8080/"
        },
        "id": "vb4ezICB318t",
        "outputId": "9d2ac224-55f7-410f-c52b-674d5add041e"
      },
      "execution_count": null,
      "outputs": [
        {
          "output_type": "execute_result",
          "data": {
            "text/plain": [
              "68.29629629629629"
            ]
          },
          "metadata": {},
          "execution_count": 21
        }
      ]
    },
    {
      "cell_type": "code",
      "source": [
        "with open('SS_VQE_iter.npy', 'rb') as f:\n",
        "    iter = np.load(f)"
      ],
      "metadata": {
        "id": "galbgNmy7hiQ"
      },
      "execution_count": null,
      "outputs": []
    },
    {
      "cell_type": "code",
      "source": [
        "np.mean(iter[:-1])"
      ],
      "metadata": {
        "colab": {
          "base_uri": "https://localhost:8080/"
        },
        "id": "EAvONyJp7tdY",
        "outputId": "71b8a0ac-cde3-4246-85e9-bb49751cb5e2"
      },
      "execution_count": null,
      "outputs": [
        {
          "output_type": "execute_result",
          "data": {
            "text/plain": [
              "114.11111111111111"
            ]
          },
          "metadata": {},
          "execution_count": 23
        }
      ]
    },
    {
      "cell_type": "code",
      "execution_count": null,
      "metadata": {
        "id": "KxY78457yPz1"
      },
      "outputs": [],
      "source": [
        "with open('T_VQD_S0.npy', 'rb') as f:\n",
        "    E0_arr = np.load(f)\n",
        "\n",
        "with open('T_VQD_T1.npy', 'rb') as f:\n",
        "    E1_arr = np.load(f)\n",
        "\n",
        "with open('T_VQD_S1.npy', 'rb') as f:\n",
        "    E2_arr = np.load(f)"
      ]
    },
    {
      "cell_type": "code",
      "execution_count": null,
      "metadata": {
        "id": "fSfiSDHOzdan"
      },
      "outputs": [],
      "source": [
        "\n",
        "for i in range(10):\n",
        "     E0,E1,E2=np.sort([E0_arr[i],E1_arr[i],E2_arr[i]])\n",
        "     E0_arr[i]=E0\n",
        "     E1_arr[i]=E1\n",
        "     E2_arr[i]=E2"
      ]
    },
    {
      "cell_type": "code",
      "execution_count": null,
      "metadata": {
        "colab": {
          "base_uri": "https://localhost:8080/",
          "height": 503
        },
        "id": "TGYXyc3KXBMB",
        "outputId": "5732121b-638d-4898-fb97-98ead36fd57c"
      },
      "outputs": [
        {
          "output_type": "stream",
          "name": "stderr",
          "text": [
            "/usr/local/lib/python3.10/dist-packages/matplotlib/cbook/__init__.py:1335: ComplexWarning: Casting complex values to real discards the imaginary part\n",
            "  return np.asarray(x, float)\n"
          ]
        },
        {
          "output_type": "execute_result",
          "data": {
            "text/plain": [
              "<matplotlib.collections.PathCollection at 0x7f8e23611d80>"
            ]
          },
          "metadata": {},
          "execution_count": 26
        },
        {
          "output_type": "display_data",
          "data": {
            "text/plain": [
              "<Figure size 640x480 with 1 Axes>"
            ],
            "image/png": "[encoded data removed]"
          },
          "metadata": {}
        }
      ],
      "source": [
        "plt.plot(r_lst,O_dict[6][0])\n",
        "plt.plot(r_lst,O_dict[6][1])\n",
        "plt.plot(r_lst,O_dict[6][2])\n",
        "\n",
        "plt.scatter(r_lst,E0_arr,c='r')\n",
        "plt.scatter(r_lst,E1_arr,c='k')\n",
        "plt.scatter(r_lst,E2_arr,c='b')"
      ]
    },
    {
      "cell_type": "code",
      "execution_count": null,
      "metadata": {
        "id": "sDcE1GqQXB4h"
      },
      "outputs": [],
      "source": [
        "Rel0=np.abs(np.array(O_dict[6][0])-E0_arr)/np.abs(np.array(O_dict[6][0]))\n",
        "Rel1=np.abs(np.array(O_dict[6][1])-E1_arr)/np.abs(np.array(O_dict[6][1]))\n",
        "Rel2=np.abs(np.array(O_dict[6][2])-E2_arr)/np.abs(np.array(O_dict[6][2]))"
      ]
    },
    {
      "cell_type": "code",
      "execution_count": null,
      "metadata": {
        "colab": {
          "base_uri": "https://localhost:8080/",
          "height": 462
        },
        "id": "LX98uQU80g27",
        "outputId": "41beac49-ec0c-4ae0-e1a4-465578218e70"
      },
      "outputs": [
        {
          "output_type": "execute_result",
          "data": {
            "text/plain": [
              "<matplotlib.legend.Legend at 0x7f8e236adae0>"
            ]
          },
          "metadata": {},
          "execution_count": 28
        },
        {
          "output_type": "display_data",
          "data": {
            "text/plain": [
              "<Figure size 640x480 with 1 Axes>"
            ],
            "image/png": "[encoded data removed]"
          },
          "metadata": {}
        }
      ],
      "source": [
        "plt.scatter(r_lst[:-1],Rel0[:-1]*100,s=15,c='r',label='VQD S0')\n",
        "plt.scatter(r_lst[:-1],Rel1[:-1]*100,s=15,c='b',label='VQD T1')\n",
        "plt.scatter(r_lst[:-1],Rel2[:-1]*100,s=15,c='k',label='VQD S1')\n",
        "\n",
        "plt.xlabel('Atomic unit')\n",
        "plt.ylabel('Relative Error')\n",
        "\n",
        "plt.grid()\n",
        "plt.legend()\n"
      ]
    },
    {
      "cell_type": "code",
      "source": [
        "with open('T_VQD_iter1.npy', 'rb') as f:\n",
        "    iter1 = np.load(f)\n",
        "\n",
        "with open('T_VQD_iter2.npy', 'rb') as f:\n",
        "    iter2 = np.load(f)\n",
        "\n",
        "with open('T_VQD_iter3.npy', 'rb') as f:\n",
        "    iter3 = np.load(f)"
      ],
      "metadata": {
        "id": "7nG_kEBu8Q2Z"
      },
      "execution_count": null,
      "outputs": []
    },
    {
      "cell_type": "code",
      "source": [
        "np.mean(iter1[:-1])"
      ],
      "metadata": {
        "colab": {
          "base_uri": "https://localhost:8080/"
        },
        "id": "k_JEJcKMNtAb",
        "outputId": "15ef873b-fe50-4f7a-de94-55f753689224"
      },
      "execution_count": null,
      "outputs": [
        {
          "output_type": "execute_result",
          "data": {
            "text/plain": [
              "66.44444444444444"
            ]
          },
          "metadata": {},
          "execution_count": 30
        }
      ]
    },
    {
      "cell_type": "code",
      "source": [
        "np.mean(iter2[:-1])"
      ],
      "metadata": {
        "colab": {
          "base_uri": "https://localhost:8080/"
        },
        "id": "UFluqd6-N3I3",
        "outputId": "0ed75934-8fb9-42a4-d56e-e5a7803242b2"
      },
      "execution_count": null,
      "outputs": [
        {
          "output_type": "execute_result",
          "data": {
            "text/plain": [
              "66.55555555555556"
            ]
          },
          "metadata": {},
          "execution_count": 31
        }
      ]
    },
    {
      "cell_type": "code",
      "source": [
        "np.mean(iter3[:-1])"
      ],
      "metadata": {
        "colab": {
          "base_uri": "https://localhost:8080/"
        },
        "id": "b0o1w7zFRAFg",
        "outputId": "28351d42-d73f-47cb-ddbf-748c7175a598"
      },
      "execution_count": null,
      "outputs": [
        {
          "output_type": "execute_result",
          "data": {
            "text/plain": [
              "71.88888888888889"
            ]
          },
          "metadata": {},
          "execution_count": 32
        }
      ]
    },
    {
      "cell_type": "code",
      "source": [
        "np.mean((iter1[:-1]+iter2[:-1]+iter3[:-1])/3)"
      ],
      "metadata": {
        "colab": {
          "base_uri": "https://localhost:8080/"
        },
        "id": "LCtvYHE58b9k",
        "outputId": "66cb5159-0ae7-4336-eb6b-ee99739ca025"
      },
      "execution_count": null,
      "outputs": [
        {
          "output_type": "execute_result",
          "data": {
            "text/plain": [
              "68.29629629629629"
            ]
          },
          "metadata": {},
          "execution_count": 33
        }
      ]
    },
    {
      "cell_type": "code",
      "source": [
        "iter0_lst=[253, 263, 283, 387, 317, 305, 285, 288, 233]\n",
        "iter1_lst=[208, 191, 212, 218, 205, 239, 156, 242, 215]\n",
        "iter2_lst=[105, 93, 94, 112, 125, 135, 399, 338, 73]"
      ],
      "metadata": {
        "id": "5XR1x2cwOfqJ"
      },
      "execution_count": null,
      "outputs": []
    },
    {
      "cell_type": "code",
      "source": [
        "np.mean(iter2_lst)"
      ],
      "metadata": {
        "colab": {
          "base_uri": "https://localhost:8080/"
        },
        "id": "wD55ypU8O0zI",
        "outputId": "56f7aa62-8919-4df9-8dec-09a33c15b401"
      },
      "execution_count": null,
      "outputs": [
        {
          "output_type": "execute_result",
          "data": {
            "text/plain": [
              "163.77777777777777"
            ]
          },
          "metadata": {},
          "execution_count": 35
        }
      ]
    },
    {
      "cell_type": "code",
      "source": [
        "with open('SS_VQE_iter.npy', 'rb') as f:\n",
        "    iter = np.load(f)"
      ],
      "metadata": {
        "id": "J6VujuBk8p1a"
      },
      "execution_count": null,
      "outputs": []
    },
    {
      "cell_type": "code",
      "source": [
        "np.mean(iter[:-1])"
      ],
      "metadata": {
        "colab": {
          "base_uri": "https://localhost:8080/"
        },
        "id": "FgUkz3uY8tyw",
        "outputId": "c9dbbab4-ebca-49bb-c186-1452ef25ffe3"
      },
      "execution_count": null,
      "outputs": [
        {
          "output_type": "execute_result",
          "data": {
            "text/plain": [
              "114.11111111111111"
            ]
          },
          "metadata": {},
          "execution_count": 37
        }
      ]
    },
    {
      "cell_type": "code",
      "execution_count": null,
      "metadata": {
        "id": "mg_9lHyS0lC_"
      },
      "outputs": [],
      "source": [
        "with open('T_SSVQE_S0.npy', 'rb') as f:\n",
        "    E0_S_arr = np.load(f)\n",
        "\n",
        "with open('T_SSVQE_T1.npy', 'rb') as f:\n",
        "    E1_S_arr = np.load(f)\n",
        "\n",
        "with open('T_SSVQE_S1.npy', 'rb') as f:\n",
        "    E2_S_arr = np.load(f)"
      ]
    },
    {
      "cell_type": "code",
      "execution_count": null,
      "metadata": {
        "id": "Awdwe3LGlJhg"
      },
      "outputs": [],
      "source": [
        "\n",
        "for i in range(10):\n",
        "     E0,E1,E2=np.sort([E0_S_arr[i],E1_S_arr[i],E2_S_arr[i]])\n",
        "     E0_S_arr[i]=E0\n",
        "     E1_S_arr[i]=E1\n",
        "     E2_S_arr[i]=E2"
      ]
    },
    {
      "cell_type": "code",
      "execution_count": null,
      "metadata": {
        "colab": {
          "base_uri": "https://localhost:8080/",
          "height": 503
        },
        "id": "QBjsQo1rlehu",
        "outputId": "9e34e483-4dd7-4add-8be5-fb2e0b56135d"
      },
      "outputs": [
        {
          "output_type": "stream",
          "name": "stderr",
          "text": [
            "/usr/local/lib/python3.10/dist-packages/matplotlib/cbook/__init__.py:1335: ComplexWarning: Casting complex values to real discards the imaginary part\n",
            "  return np.asarray(x, float)\n"
          ]
        },
        {
          "output_type": "execute_result",
          "data": {
            "text/plain": [
              "<matplotlib.collections.PathCollection at 0x7f8e235921a0>"
            ]
          },
          "metadata": {},
          "execution_count": 40
        },
        {
          "output_type": "display_data",
          "data": {
            "text/plain": [
              "<Figure size 640x480 with 1 Axes>"
            ],
            "image/png": "[encoded data removed]"
          },
          "metadata": {}
        }
      ],
      "source": [
        "plt.plot(r_lst,O_dict[6][0])\n",
        "plt.plot(r_lst,O_dict[6][1])\n",
        "plt.plot(r_lst,O_dict[6][2])\n",
        "\n",
        "plt.scatter(r_lst,E0_S_arr,c='r')\n",
        "plt.scatter(r_lst,E1_S_arr,c='k')\n",
        "plt.scatter(r_lst,E2_S_arr,c='b')"
      ]
    },
    {
      "cell_type": "code",
      "execution_count": null,
      "metadata": {
        "id": "K-5u030tly6E"
      },
      "outputs": [],
      "source": [
        "Rel0_S=np.abs(np.array(O_dict[6][0])-E0_S_arr)/np.abs(np.array(O_dict[6][0]))\n",
        "Rel1_S=np.abs(np.array(O_dict[6][1])-E1_S_arr)/np.abs(np.array(O_dict[6][1]))\n",
        "Rel2_S=np.abs(np.array(O_dict[6][2])-E2_S_arr)/np.abs(np.array(O_dict[6][2]))"
      ]
    },
    {
      "cell_type": "code",
      "execution_count": null,
      "metadata": {
        "id": "kAgkea-_mKRf"
      },
      "outputs": [],
      "source": [
        "with open('T_VQD_S0_se.npy', 'rb') as f:\n",
        "    E0_SE_arr = np.load(f)\n",
        "\n",
        "with open('T_VQD_T1_se.npy', 'rb') as f:\n",
        "    E1_SE_arr = np.load(f)\n",
        "\n",
        "with open('T_VQD_S1_se.npy', 'rb') as f:\n",
        "    E2_SE_arr = np.load(f)"
      ]
    },
    {
      "cell_type": "code",
      "source": [
        "for i in range(10):\n",
        "     E0,E1,E2=np.sort([E0_SE_arr[i],E1_SE_arr[i],E2_SE_arr[i]])\n",
        "     E0_SE_arr[i]=E0\n",
        "     E1_SE_arr[i]=E1\n",
        "     E2_SE_arr[i]=E2"
      ],
      "metadata": {
        "id": "Lqs4UrUHwq5E"
      },
      "execution_count": null,
      "outputs": []
    },
    {
      "cell_type": "code",
      "execution_count": null,
      "metadata": {
        "id": "SDrZo3mQ-_TX"
      },
      "outputs": [],
      "source": [
        "Rel0_SE=np.abs(np.array(O_dict[6][0])-E0_SE_arr)/np.abs(np.array(O_dict[6][0]))\n",
        "Rel1_SE=np.abs(np.array(O_dict[6][1])-E1_SE_arr)/np.abs(np.array(O_dict[6][1]))\n",
        "Rel2_SE=np.abs(np.array(O_dict[6][2])-E2_SE_arr)/np.abs(np.array(O_dict[6][2]))"
      ]
    },
    {
      "cell_type": "code",
      "execution_count": null,
      "metadata": {
        "colab": {
          "base_uri": "https://localhost:8080/",
          "height": 462
        },
        "id": "hnrJ3voOmC0X",
        "outputId": "bad865fb-d22c-44ec-ca25-57fe1f262259"
      },
      "outputs": [
        {
          "output_type": "display_data",
          "data": {
            "text/plain": [
              "<Figure size 911.25x503.466 with 6 Axes>"
            ],
            "image/png": "[encoded data removed]"
          },
          "metadata": {}
        }
      ],
      "source": [
        "fig,axes = plt.subplots(2,3,sharex = True,sharey = False, figsize = (2*1.35*3.375,1.3*1.35*0.85*3.375),squeeze = False)#,width_ratios=[1,1.04])\n",
        "plt.subplots_adjust(hspace=0.01,wspace=0.03)\n",
        "\n",
        "\n",
        "\n",
        "axes[1,0].scatter(r_lst[:-1],Rel0[:-1]*100,s=7,c='r',label='VQD S0')\n",
        "axes[1,0].scatter(r_lst[:-1],Rel1[:-1]*100,s=7,c='b',label='VQD T1')\n",
        "axes[1,0].scatter(r_lst[:-1],Rel2[:-1]*100,s=7,c='k',label='VQD S1')\n",
        "axes[1,0].set_yticks([0.02,0.04,0.06,0.08])\n",
        "\n",
        "axes[1,0].set_xlabel(r\"$\\mathrm{Atomic}$ $\\mathrm{Unit}$\")\n",
        "axes[1,0].set_ylabel(r\"$\\mathrm{Relative}$ $\\mathrm{Error}$ $\\mathrm{(\\%)}$\")\n",
        "axes[1,0].text(0.1,0.92,r\"$\\textbf{(d)}$\",transform=axes[1,0].transAxes)\n",
        "#axes[1,0].set_yticks([0.0,0.02,0.04,0.06,0.08,0.1,0.12,0.14])\n",
        "axes[1,0].set_yscale('log')\n",
        "axes[1,0].set_ylim(0.0004,0.2)\n",
        "#axes[0,0].grid()\n",
        "\n",
        "axes[0,0].plot(r_lst[:-1],O_dict[6][0][:-1],label='Exact S0')\n",
        "axes[0,0].plot(r_lst[:-1],O_dict[6][1][:-1],label='Exact T1')\n",
        "axes[0,0].plot(r_lst[:-1],O_dict[6][2][:-1],label='Exact S1')\n",
        "\n",
        "axes[0,0].scatter(r_lst[:-1],E0_arr[:-1],s=7,c='r',label='Taper+VQD S0')\n",
        "axes[0,0].scatter(r_lst[:-1],E1_arr[:-1],s=7,c='k',label='Taper+VQD T1')\n",
        "axes[0,0].scatter(r_lst[:-1],E2_arr[:-1],s=7,c='b',label='Taper+VQD S1')\n",
        "\n",
        "axes[0,0].text(0.1,0.92,r\"$\\textbf{(a)}$\",transform=axes[0,0].transAxes)\n",
        "axes[0,0].legend(bbox_to_anchor=(1.06, 1.0),loc='upper right',frameon=False,labelspacing = 0.09,handlelength=0.7)\n",
        "axes[0,0].set_ylabel(r\"$\\mathrm{Ha}$\")\n",
        "\n",
        "axes[0,1].plot(r_lst[:-1],O_dict[6][0][:-1])\n",
        "axes[0,1].plot(r_lst[:-1],O_dict[6][1][:-1])\n",
        "axes[0,1].plot(r_lst[:-1],O_dict[6][2][:-1])\n",
        "\n",
        "axes[0,1].scatter(r_lst[:-1],E0_S_arr[:-1],s=7,marker='^',c='r',label='Taper+SSVQE S0')\n",
        "axes[0,1].scatter(r_lst[:-1],E1_S_arr[:-1],s=7,marker='^',c='k',label='Taper+SSVQE T1')\n",
        "axes[0,1].scatter(r_lst[:-1],E2_S_arr[:-1],s=7,marker='^',c='b',label='Taper+SSVQE S1')\n",
        "axes[0,1].set_yticks([])\n",
        "axes[0,1].legend(bbox_to_anchor=(1.06, 0.95),loc='upper right',frameon=False,labelspacing = 0.09,handlelength=0.7)\n",
        "axes[0,1].text(0.1,0.92,r\"$\\textbf{(b)}$\",transform=axes[0,1].transAxes)\n",
        "\n",
        "axes[0,2].plot(r_lst[:-1],O_dict[6][0][:-1])\n",
        "axes[0,2].plot(r_lst[:-1],O_dict[6][1][:-1])\n",
        "axes[0,2].plot(r_lst[:-1],O_dict[6][2][:-1])\n",
        "\n",
        "axes[0,2].scatter(r_lst[:-1],E0_SE_arr[:-1],s=7,marker='s',c='r',label='Taper+SE+VQD S0')\n",
        "axes[0,2].scatter(r_lst[:-1],E1_SE_arr[:-1],s=7,marker='s',c='k',label='Taper+SE+VQD T1')\n",
        "axes[0,2].scatter(r_lst[:-1],E2_SE_arr[:-1],s=7,marker='s',c='b',label='Taper+SE+VQD S1')\n",
        "axes[0,2].set_yticks([])\n",
        "axes[0,2].legend(bbox_to_anchor=(1.06, 0.95),loc='upper right',frameon=False,labelspacing = 0.09,handlelength=0.7)\n",
        "axes[0,2].text(0.1,0.92,r\"$\\textbf{(c)}$\",transform=axes[0,2].transAxes)\n",
        "\n",
        "axes[1,1].scatter(r_lst[:-1],Rel0_S[:-1]*100,s=7,marker='^',c='r')\n",
        "axes[1,1].scatter(r_lst[:-1],Rel1_S[:-1]*100,s=7,marker='^',c='b')\n",
        "axes[1,1].scatter(r_lst[:-1],Rel2_S[:-1]*100,s=7,marker='^',c='k')\n",
        "axes[1,1].set_yticks([0.02,0.04,0.06,0.08,0.1])\n",
        "\n",
        "axes[1,1].text(0.1,0.92,r\"$\\textbf{(e)}$\",transform=axes[1,1].transAxes)\n",
        "axes[1,1].set_xlabel(r\"$\\mathrm{Atomic}$ $\\mathrm{Unit}$\")\n",
        "\n",
        "axes[1,1].scatter(r_lst[:-1],Rel0_S[:-1]*100,s=7,marker='^',c='r',label='VQD S0')\n",
        "axes[1,1].scatter(r_lst[:-1],Rel1_S[:-1]*100,s=7,marker='^',c='b',label='VQD T1')\n",
        "axes[1,1].scatter(r_lst[:-1],Rel2_S[:-1]*100,s=7,marker='^',c='k',label='VQD S1')\n",
        "\n",
        "axes[1,1].set_yscale('log')\n",
        "axes[1,1].set_yticks([])\n",
        "axes[1,1].set_ylim(0.0004,0.2)\n",
        "\n",
        "#axes[1,1].text(0.1,0.9,r\"$\\mathrm{(d)}$\",transform=axes[1,1].transAxes)\n",
        "axes[1,1].set_xlabel(r\"$\\mathrm{Atomic}$ $\\mathrm{Unit}$\")\n",
        "\n",
        "axes[1,2].scatter(r_lst[:-1],Rel0_SE[:-1]*100,s=7,marker='s',c='r',label='VQD S0')\n",
        "axes[1,2].scatter(r_lst[:-1],Rel1_SE[:-1]*100,s=7,marker='s',c='b',label='VQD T1')\n",
        "axes[1,2].scatter(r_lst[:-1],Rel2_SE[:-1]*100,s=7,marker='s',c='k',label='VQD S1')\n",
        "axes[1,2].set_yscale('log')\n",
        "axes[1,2].set_yticks([])\n",
        "axes[1,2].set_ylim(0.0004,0.2)\n",
        "axes[1,2].set_xlabel(r\"$\\mathrm{Atomic}$ $\\mathrm{Unit}$\")\n",
        "axes[1,2].text(0.1,0.92,r\"$\\textbf{(f)}$\",transform=axes[1,2].transAxes)\n",
        "\n",
        "plt.savefig(\"Compar_2.png\",dpi = 300,bbox_inches='tight',facecolor='white',transparent=False)\n"
      ]
    },
    {
      "cell_type": "code",
      "execution_count": null,
      "metadata": {
        "id": "8ao9EOGvhpOo"
      },
      "outputs": [],
      "source": [
        "import pickle"
      ]
    },
    {
      "cell_type": "code",
      "execution_count": null,
      "metadata": {
        "id": "pP2iwEIPmDNO"
      },
      "outputs": [],
      "source": [
        "with open(\"H4_E.pickle\", \"rb\") as input_file:\n",
        "    f_dict = pickle.load(input_file)\n"
      ]
    },
    {
      "cell_type": "code",
      "execution_count": null,
      "metadata": {
        "id": "YeSPZpikxz7v"
      },
      "outputs": [],
      "source": [
        "r_lst=[0.8,0.9,1.0,1.1,1.2,1.3,1.4,1.5,1.6,1.7,1.8,1.9,2.0,2.1,2.2,2.3,2.4]"
      ]
    },
    {
      "cell_type": "code",
      "execution_count": null,
      "metadata": {
        "id": "kaL3SAT526Ia"
      },
      "outputs": [],
      "source": [
        "r_lst1=[0.8,1.2,1.6,2.0,2.4]"
      ]
    },
    {
      "cell_type": "code",
      "execution_count": null,
      "metadata": {
        "colab": {
          "base_uri": "https://localhost:8080/"
        },
        "id": "cyN6igO5h1H4",
        "outputId": "88cc9b2d-fe23-4876-c930-33b5f19a06ce"
      },
      "outputs": [
        {
          "output_type": "execute_result",
          "data": {
            "text/plain": [
              "{0: [-2.1675605463844354,\n",
              "  -2.1803166166359285,\n",
              "  -2.166387450967175,\n",
              "  -2.1379705291982196,\n",
              "  -2.1026084833525234,\n",
              "  -2.065228965728947,\n",
              "  -2.029070496118251,\n",
              "  -1.99615032811433,\n",
              "  -1.9675603125834449,\n",
              "  -1.9436920414182288,\n",
              "  -1.9244306409352072,\n",
              "  -1.9093320629111974,\n",
              "  -1.8977806489291078,\n",
              "  -1.889114877722066,\n",
              "  -1.882712640505014,\n",
              "  -1.87803704809732,\n",
              "  -1.874651585670704],\n",
              " 1: [-1.807912190544876,\n",
              "  -1.8916101291810312,\n",
              "  -1.9337572385158104,\n",
              "  -1.9510298006012698,\n",
              "  -1.9535163624294278,\n",
              "  -1.9475727599689976,\n",
              "  -1.9373459123774857,\n",
              "  -1.925558517497319,\n",
              "  -1.9139344047596045,\n",
              "  -1.9034643189062121,\n",
              "  -1.8946055937435797,\n",
              "  -1.887451528832841,\n",
              "  -1.8818756913905361,\n",
              "  -1.8776450981819937,\n",
              "  -1.8744981753556917,\n",
              "  -1.8721901876861529,\n",
              "  -1.8705138914802644],\n",
              " 2: [-1.5145835733726418,\n",
              "  -1.6345324320578343,\n",
              "  -1.7194941492963265,\n",
              "  -1.77349006003144,\n",
              "  -1.8081022858848108,\n",
              "  -1.830258177080668,\n",
              "  -1.8442521292748888,\n",
              "  -1.8529030537660034,\n",
              "  -1.858133862027424,\n",
              "  -1.8612506197972842,\n",
              "  -1.8631073430743565,\n",
              "  -1.8642335731890587,\n",
              "  -1.8649403636253656,\n",
              "  -1.865402383926106,\n",
              "  -1.8657151995269734,\n",
              "  -1.865931358874478,\n",
              "  -1.8660811330375806],\n",
              " 3: [-1.499120102282562,\n",
              "  -1.5909345650715256,\n",
              "  -1.6496578939015702,\n",
              "  -1.71238982145581,\n",
              "  -1.7551083107327454,\n",
              "  -1.7849348450306526,\n",
              "  -1.806225596319224,\n",
              "  -1.8217145502954408,\n",
              "  -1.8331577395936098,\n",
              "  -1.8417053372516066,\n",
              "  -1.8481282561988055,\n",
              "  -1.8529599806201522,\n",
              "  -1.8565841068270381,\n",
              "  -1.859286597038418,\n",
              "  -1.8612862491847664,\n",
              "  -1.8627527080506023,\n",
              "  -1.8638178403227046],\n",
              " 4: [-1.4087404637822842,\n",
              "  -1.5550527551437185,\n",
              "  -1.6231380326842706,\n",
              "  -1.628281917934506,\n",
              "  -1.6331849120108768,\n",
              "  -1.6945489184265943,\n",
              "  -1.7400073104823877,\n",
              "  -1.7736603459896705,\n",
              "  -1.7985457456719642,\n",
              "  -1.8169202409151888,\n",
              "  -1.830459180889149,\n",
              "  -1.8404069992307066,\n",
              "  -1.8476900677415624,\n",
              "  -1.852999635498289,\n",
              "  -1.856852086967491,\n",
              "  -1.8596328647751779,\n",
              "  -1.861628930843757],\n",
              " 5: [-1.085586970544463,\n",
              "  -1.2825550136910235,\n",
              "  -1.4376912930059622,\n",
              "  -1.550280716242957,\n",
              "  -1.61680939610979,\n",
              "  -1.6133019014004724,\n",
              "  -1.681769993988688,\n",
              "  -1.731963682318116,\n",
              "  -1.7687472779108457,\n",
              "  -1.7956705543638825,\n",
              "  -1.8153387736486746,\n",
              "  -1.8296704562530175,\n",
              "  -1.8400816495665138,\n",
              "  -1.8476187245816966,\n",
              "  -1.8530546525462017,\n",
              "  -1.8569594460531813,\n",
              "  -1.8597522728917932],\n",
              " 6: [-1.0627965252587999,\n",
              "  -1.2384730292875072,\n",
              "  -1.3322753652703871,\n",
              "  -1.3916999062292044,\n",
              "  -1.5198126991841625,\n",
              "  -1.5953458019243827,\n",
              "  -1.5682802250053094,\n",
              "  -1.5386075409185005,\n",
              "  -1.5083801385516251,\n",
              "  -1.4789672504414446,\n",
              "  -1.4512241432719835,\n",
              "  -1.4256209686641017,\n",
              "  -1.4023510948298283,\n",
              "  -1.3814224087703006,\n",
              "  -1.3627294330346749,\n",
              "  -1.3461053250980644,\n",
              "  -1.3313560471153023],\n",
              " 7: [-0.9104526642905713,\n",
              "  -1.1405936213470556,\n",
              "  -1.28482257488361,\n",
              "  -1.3880814702633928,\n",
              "  -1.4248946903389224,\n",
              "  -1.4510100073749888,\n",
              "  -1.4601468334791854,\n",
              "  -1.4581387570385396,\n",
              "  -1.4490557796945092,\n",
              "  -1.435717248571037,\n",
              "  -1.4200679676365984,\n",
              "  -1.4034406246875042,\n",
              "  -1.3867339256053732,\n",
              "  -1.3705347407291222,\n",
              "  -1.3552047537251442,\n",
              "  -1.340944126147848,\n",
              "  -1.3278392096439484],\n",
              " 8: [-0.7793736739334944,\n",
              "  -0.9932160078903234,\n",
              "  -1.2146565871267023,\n",
              "  -1.3734943550140841,\n",
              "  -1.4187958501894828,\n",
              "  -1.432714786425454,\n",
              "  -1.4354381871487,\n",
              "  -1.4308444649215366,\n",
              "  -1.42164252245048,\n",
              "  -1.4097262871568548,\n",
              "  -1.396411618027067,\n",
              "  -1.3825960062531568,\n",
              "  -1.3688710357333729,\n",
              "  -1.355606831578553,\n",
              "  -1.3430175929853614,\n",
              "  -1.3312117998046347,\n",
              "  -1.3202291485367512],\n",
              " 9: [-0.7555976474282615,\n",
              "  -0.985238987862428,\n",
              "  -1.1468043607913632,\n",
              "  -1.2465027916574973,\n",
              "  -1.3101399892521206,\n",
              "  -1.349000868145074,\n",
              "  -1.370693199038169,\n",
              "  -1.3805665097063473,\n",
              "  -1.382452998862279,\n",
              "  -1.3790971568078287,\n",
              "  -1.3724390848603856,\n",
              "  -1.3638243002226769,\n",
              "  -1.3541686629233107,\n",
              "  -1.344086440228829,\n",
              "  -1.3347456531119701,\n",
              "  -1.3256148250111668,\n",
              "  -1.3164692002561829],\n",
              " 10: [-0.6714773911126263,\n",
              "  -0.9660441820256228,\n",
              "  -1.121997666004586,\n",
              "  -1.2135321889436155,\n",
              "  -1.2810761589818522,\n",
              "  -1.322756596182185,\n",
              "  -1.3470263836088185,\n",
              "  -1.3595756128027654,\n",
              "  -1.3643113370176587,\n",
              "  -1.3641564660857344,\n",
              "  -1.3617086497366644,\n",
              "  -1.3575912607229577,\n",
              "  -1.3513321413801518,\n",
              "  -1.3434924724543287,\n",
              "  -1.3339841140121989,\n",
              "  -1.3241249847072902,\n",
              "  -1.3146723913111482],\n",
              " 11: [-0.6080252657463797,\n",
              "  -0.9371991363723523,\n",
              "  -1.1059814901733465,\n",
              "  -1.2133422423587064,\n",
              "  -1.2744178087966218,\n",
              "  -1.3138884285915342,\n",
              "  -1.3381497693394924,\n",
              "  -1.3515977189947226,\n",
              "  -1.35743567408975,\n",
              "  -1.3580092147265126,\n",
              "  -1.3567708121224415,\n",
              "  -1.3514550765780697,\n",
              "  -1.3441898642118135,\n",
              "  -1.3360909549151099,\n",
              "  -1.3276686969986844,\n",
              "  -1.319219763863667,\n",
              "  -1.3109287888860717],\n",
              " 12: [-0.5256520892433928,\n",
              "  -0.7943732143248318,\n",
              "  -0.9834403458588648,\n",
              "  -1.1112671037118476,\n",
              "  -1.197681399021676,\n",
              "  -1.2605346116454426,\n",
              "  -1.3060169066009035,\n",
              "  -1.3344711745202804,\n",
              "  -1.35050680169185,\n",
              "  -1.3573244626579672,\n",
              "  -1.3550206887285052,\n",
              "  -1.349690667032838,\n",
              "  -1.3428864238898395,\n",
              "  -1.3352211162046836,\n",
              "  -1.3271263267208928,\n",
              "  -1.3189033283965181,\n",
              "  -1.3107591428826872],\n",
              " 13: [-0.5110415214454779,\n",
              "  -0.7728859251241236,\n",
              "  -0.9439754071786702,\n",
              "  -1.090491789033297,\n",
              "  -1.1916616573539036,\n",
              "  -1.2553333148088552,\n",
              "  -1.292737795438968,\n",
              "  -1.3158411333234095,\n",
              "  -1.3288872678419767,\n",
              "  -1.3349369726967302,\n",
              "  -1.3361987573703005,\n",
              "  -1.3342524728844183,\n",
              "  -1.3302116669114221,\n",
              "  -1.324849041275266,\n",
              "  -1.3186948088911261,\n",
              "  -1.3121111845643356,\n",
              "  -1.3053457773722317],\n",
              " 14: [-0.41860876084122917,\n",
              "  -0.7315710796023754,\n",
              "  -0.9432502956242294,\n",
              "  -1.0637796263859147,\n",
              "  -1.1505482269837837,\n",
              "  -1.2131295426191895,\n",
              "  -1.257540799975648,\n",
              "  -1.287981687042956,\n",
              "  -1.3076927501443187,\n",
              "  -1.319298403221932,\n",
              "  -1.3249279274299566,\n",
              "  -1.3262722919101664,\n",
              "  -1.324634768355512,\n",
              "  -1.320988998993069,\n",
              "  -1.3160427381652298,\n",
              "  -1.3103001583309495,\n",
              "  -1.3046179126111301],\n",
              " 15: [-0.18356883748529831,\n",
              "  -0.5367895963624629,\n",
              "  -0.7795352365379011,\n",
              "  -0.9497106738175619,\n",
              "  -1.0700984998134653,\n",
              "  -1.1552002414758153,\n",
              "  -1.2148312762589815,\n",
              "  -1.2559436012430005,\n",
              "  -1.2835841704128732,\n",
              "  -1.3014494472301505,\n",
              "  -1.3122213722944716,\n",
              "  -1.3177827250926128,\n",
              "  -1.3194485961105076,\n",
              "  -1.318220797872523,\n",
              "  -1.3149204769734413,\n",
              "  -1.3102134781694386,\n",
              "  -1.3041158262554673],\n",
              " 16: [-0.16021019549158547,\n",
              "  -0.4802150849246359,\n",
              "  -0.7196923772104759,\n",
              "  -0.8979848655485732,\n",
              "  -1.0268963519436416,\n",
              "  -1.1204402690967779,\n",
              "  -1.1879371215193593,\n",
              "  -1.235888008005625,\n",
              "  -1.268997094836727,\n",
              "  -1.2907864327565088,\n",
              "  -1.3040044128533586,\n",
              "  -1.3108989529670405,\n",
              "  -1.3133122670238382,\n",
              "  -1.3126520483255826,\n",
              "  -1.3099235392814894,\n",
              "  -1.3058309665619112,\n",
              "  -1.3008709528768034],\n",
              " 17: [-0.11036695742415949,\n",
              "  -0.46968083765543567,\n",
              "  -0.700648193711504,\n",
              "  -0.8563510224616648,\n",
              "  -0.9726449888226432,\n",
              "  -1.0794024532844366,\n",
              "  -1.1566976895755825,\n",
              "  -1.2118617708713308,\n",
              "  -1.2503606260157463,\n",
              "  -1.2763518923255222,\n",
              "  -1.2930164165234275,\n",
              "  -1.302787976257811,\n",
              "  -1.3075252239971527,\n",
              "  -1.3086423648438628,\n",
              "  -1.307208780465848,\n",
              "  -1.3040259891434987,\n",
              "  -1.2996881911199756],\n",
              " 18: [-0.040178013708495865,\n",
              "  -0.39482049982299366,\n",
              "  -0.6393792040324268,\n",
              "  -0.8261612285931554,\n",
              "  -0.9677079159888871,\n",
              "  -1.0474528094745061,\n",
              "  -1.1041619163659397,\n",
              "  -1.1439418786758717,\n",
              "  -1.1712680329297147,\n",
              "  -1.1894572121308302,\n",
              "  -1.200974388823968,\n",
              "  -1.2076487116887864,\n",
              "  -1.210832704871569,\n",
              "  -1.2115234213641082,\n",
              "  -1.2104559708221616,\n",
              "  -1.2081748916991808,\n",
              "  -1.2050869534796387],\n",
              " 19: [0.05070984772857492,\n",
              "  -0.34376326307026595,\n",
              "  -0.6246451673938849,\n",
              "  -0.8119027777820018,\n",
              "  -0.9351555107744864,\n",
              "  -1.0234929785421385,\n",
              "  -1.0865343731324317,\n",
              "  -1.131045762796142,\n",
              "  -1.1619272402343956,\n",
              "  -1.182780193356905,\n",
              "  -1.1962707961324428,\n",
              "  -1.204380712120869,\n",
              "  -1.2085861896704413,\n",
              "  -1.2099881477782728,\n",
              "  -1.209407828551303,\n",
              "  -1.207457920396841,\n",
              "  -1.2045957963759852],\n",
              " 20: [0.056977508719911425,\n",
              "  -0.305312639126177,\n",
              "  -0.5515574185354444,\n",
              "  -0.7269928662030589,\n",
              "  -0.8554698053029539,\n",
              "  -0.9519450377139917,\n",
              "  -1.0255953705631438,\n",
              "  -1.0818265920707164,\n",
              "  -1.1240577199456971,\n",
              "  -1.1548829040838988,\n",
              "  -1.1765170238463054,\n",
              "  -1.1909005977792415,\n",
              "  -1.1997078155978982,\n",
              "  -1.2043422139750992,\n",
              "  -1.2059438531539068,\n",
              "  -1.2054114929395832,\n",
              "  -1.20343550173006],\n",
              " 21: [0.16295048810425922,\n",
              "  -0.2108587033394895,\n",
              "  -0.47546840592695666,\n",
              "  -0.6676300589069629,\n",
              "  -0.8089684238519099,\n",
              "  -0.9131278410311174,\n",
              "  -0.9983759552984615,\n",
              "  -1.0640509996486713,\n",
              "  -1.1123060453243034,\n",
              "  -1.1470530975519337,\n",
              "  -1.171282687957853,\n",
              "  -1.1873942561953834,\n",
              "  -1.1973512532474535,\n",
              "  -1.2027495498330496,\n",
              "  -1.2048597872592282,\n",
              "  -1.2046688755114914,\n",
              "  -1.2029254120005501],\n",
              " 22: [0.31152784184914034,\n",
              "  -0.1098369666803465,\n",
              "  -0.412015748869123,\n",
              "  -0.6304400867458682,\n",
              "  -0.7909225255359204,\n",
              "  -0.9098865368031359,\n",
              "  -0.9896601237789263,\n",
              "  -1.0458004549903326,\n",
              "  -1.0869959609576119,\n",
              "  -1.1171923265375219,\n",
              "  -1.1392137057011784,\n",
              "  -1.155100416300558,\n",
              "  -1.1663500184408393,\n",
              "  -1.174080152438122,\n",
              "  -1.1791373665188474,\n",
              "  -1.182170179305619,\n",
              "  -1.1836790357635771],\n",
              " 23: [0.31893955620428155,\n",
              "  -0.09514314726071288,\n",
              "  -0.3820250136909749,\n",
              "  -0.5902798200658601,\n",
              "  -0.7447560641333519,\n",
              "  -0.8609900648135537,\n",
              "  -0.9489929763863586,\n",
              "  -1.0155001366548406,\n",
              "  -1.0653816358539918,\n",
              "  -1.1023798591865002,\n",
              "  -1.1294407417332735,\n",
              "  -1.148888043704699,\n",
              "  -1.1625462818468466,\n",
              "  -1.1718389862925396,\n",
              "  -1.1778685664561364,\n",
              "  -1.1814814384255001,\n",
              "  -1.183321589979403],\n",
              " 24: [0.4978884990443056,\n",
              "  0.05588361638748331,\n",
              "  -0.25913617164524927,\n",
              "  -0.5031091390996938,\n",
              "  -0.6851149431226188,\n",
              "  -0.8212666078093884,\n",
              "  -0.9230889690543086,\n",
              "  -0.9999508366977555,\n",
              "  -1.0562506065690629,\n",
              "  -1.0969284922345839,\n",
              "  -1.1260711157103231,\n",
              "  -1.1467120564546653,\n",
              "  -1.1610843928348535,\n",
              "  -1.1708320343498937,\n",
              "  -1.1771880222775308,\n",
              "  -1.1810549775363026,\n",
              "  -1.1830580267012307],\n",
              " 25: [0.5484201746636675,\n",
              "  0.07727232053384632,\n",
              "  -0.25808522040057513,\n",
              "  -0.4884061186309458,\n",
              "  -0.6740950382805979,\n",
              "  -0.8171318086567608,\n",
              "  -0.9226116032187966,\n",
              "  -0.9988556143243075,\n",
              "  -1.0547905927916816,\n",
              "  -1.0956775443582354,\n",
              "  -1.125206132196589,\n",
              "  -1.1462092925741514,\n",
              "  -1.1608482539121343,\n",
              "  -1.1707621763778602,\n",
              "  -1.1771702518901492,\n",
              "  -1.181001609111348,\n",
              "  -1.182998685677421],\n",
              " 26: [0.646080125838946,\n",
              "  0.14684990764952133,\n",
              "  -0.2170571232884831,\n",
              "  -0.48048063040343403,\n",
              "  -0.6565969145356453,\n",
              "  -0.7797298230265234,\n",
              "  -0.8694190302589129,\n",
              "  -0.9346618003139067,\n",
              "  -0.9824368997611725,\n",
              "  -1.0180136974182346,\n",
              "  -1.0452048323831036,\n",
              "  -1.0665890842527763,\n",
              "  -1.0837769408120037,\n",
              "  -1.0977283646293436,\n",
              "  -1.1090387783831432,\n",
              "  -1.1181264685955281,\n",
              "  -1.1253254992814727],\n",
              " 27: [0.6635974184188411,\n",
              "  0.16431575591066067,\n",
              "  -0.1784204410230555,\n",
              "  -0.4286804050453376,\n",
              "  -0.6127124081050402,\n",
              "  -0.7477429982476717,\n",
              "  -0.8463604849890016,\n",
              "  -0.9182585691261258,\n",
              "  -0.970950521295221,\n",
              "  -1.0101232565347806,\n",
              "  -1.039901731900712,\n",
              "  -1.0631044277861614,\n",
              "  -1.0815378095342285,\n",
              "  -1.0963222998862758,\n",
              "  -1.108177814759635,\n",
              "  -1.1176141044317938,\n",
              "  -1.1250302799607355],\n",
              " 28: [0.7174691119520218,\n",
              "  0.24266394544143438,\n",
              "  -0.08657633209580363,\n",
              "  -0.3173949392715866,\n",
              "  -0.47994350045617007,\n",
              "  -0.5939827824385039,\n",
              "  -0.7044420965949322,\n",
              "  -0.8063800556226159,\n",
              "  -0.884779150615819,\n",
              "  -0.9453186918780974,\n",
              "  -0.9922122248308926,\n",
              "  -1.028605942596779,\n",
              "  -1.0568679471278677,\n",
              "  -1.0787960279386388,\n",
              "  -1.0957659953166554,\n",
              "  -1.1088378607291327,\n",
              "  -1.1188327511803853],\n",
              " 29: [1.0664749400684501,\n",
              "  0.5652944873689382,\n",
              "  0.1446012939068364,\n",
              "  -0.16494465895254473,\n",
              "  -0.3963445021600022,\n",
              "  -0.571269913364652,\n",
              "  -0.6734767521463997,\n",
              "  -0.7838331071908097,\n",
              "  -0.869101349263269,\n",
              "  -0.9346430765654524,\n",
              "  -0.9850967448613586,\n",
              "  -1.0239677688028017,\n",
              "  -1.0539149935950134,\n",
              "  -1.0769629386484045,\n",
              "  -1.094658836809905,\n",
              "  -1.1081888337773143,\n",
              "  -1.118464509272198],\n",
              " 30: [1.1584322442790231,\n",
              "  0.5666032154797062,\n",
              "  0.20778046503427328,\n",
              "  -0.08547622465250396,\n",
              "  -0.3368495282073111,\n",
              "  -0.5273996633114696,\n",
              "  -0.6726771033579113,\n",
              "  -0.7288633596567221,\n",
              "  -0.7678513832131195,\n",
              "  -0.7955128447474968,\n",
              "  -0.8144664464706171,\n",
              "  -0.8258261005598843,\n",
              "  -0.8304084529862183,\n",
              "  -0.8292829860587341,\n",
              "  -0.8237030582342909,\n",
              "  -0.814886755484467,\n",
              "  -0.8038779478325809],\n",
              " 31: [1.1590953828432646,\n",
              "  0.6259616058616914,\n",
              "  0.2495669577914773,\n",
              "  -0.059220564600636946,\n",
              "  -0.2645614675651051,\n",
              "  -0.42413484469380114,\n",
              "  -0.5476243503462508,\n",
              "  -0.6417958119265811,\n",
              "  -0.711800746816446,\n",
              "  -0.7617556348714307,\n",
              "  -0.7951448381060285,\n",
              "  -0.815112446620246,\n",
              "  -0.8245686386864967,\n",
              "  -0.8261288053428526,\n",
              "  -0.8220098461598712,\n",
              "  -0.8139832220948546,\n",
              "  -0.8033992774506382],\n",
              " 32: [1.338775607279264,\n",
              "  0.7042357083440404,\n",
              "  0.249989433333114,\n",
              "  -0.024570357293728994,\n",
              "  -0.22828101495900266,\n",
              "  -0.3793813455745231,\n",
              "  -0.4901522826310969,\n",
              "  -0.5696298426591532,\n",
              "  -0.62464908152855,\n",
              "  -0.660474259608496,\n",
              "  -0.6814883979033357,\n",
              "  -0.6915912133027121,\n",
              "  -0.6940777657808883,\n",
              "  -0.6914650345055565,\n",
              "  -0.6855450523850074,\n",
              "  -0.6775545087107,\n",
              "  -0.6683385061864054],\n",
              " 33: [1.4934482422024766,\n",
              "  0.9223959265477799,\n",
              "  0.5208444366505471,\n",
              "  0.22208595794169397,\n",
              "  -0.016381355423196246,\n",
              "  -0.20936023760338027,\n",
              "  -0.3596107396471637,\n",
              "  -0.471798456267876,\n",
              "  -0.5519093433651392,\n",
              "  -0.606156797893842,\n",
              "  -0.6406614561668564,\n",
              "  -0.6608696240263113,\n",
              "  -0.6710633112607763,\n",
              "  -0.6743511948036834,\n",
              "  -0.6729260922598145,\n",
              "  -0.6683310874261413,\n",
              "  -0.6616567433905565],\n",
              " 34: [1.6916406141374056,\n",
              "  1.0794396335129404,\n",
              "  0.6538434013003492,\n",
              "  0.354122392320689,\n",
              "  0.14182440388067044,\n",
              "  -0.009227094138416117,\n",
              "  -0.1172473876809156,\n",
              "  -0.19483010667884354,\n",
              "  -0.25066489810216963,\n",
              "  -0.2908023510389833,\n",
              "  -0.31951805572468833,\n",
              "  -0.33987933507015067,\n",
              "  -0.3541146930069614,\n",
              "  -0.36385813533190237,\n",
              "  -0.37031475666165037,\n",
              "  -0.37437609065505273,\n",
              "  -0.37670248831017444],\n",
              " 35: [1.9546257942464538,\n",
              "  1.2505246775445693,\n",
              "  0.7509635645036085,\n",
              "  0.39744381630605696,\n",
              "  0.15667501139999873,\n",
              "  -0.00467264001210862,\n",
              "  -0.11584590460411755,\n",
              "  -0.19438667051030453,\n",
              "  -0.2505212068590072,\n",
              "  -0.29075509896963314,\n",
              "  -0.3195024290579882,\n",
              "  -0.3398741784860897,\n",
              "  -0.35411300605884144,\n",
              "  -0.36385759108973037,\n",
              "  -0.3703145842672671,\n",
              "  -0.37437603724158386,\n",
              "  -0.3767024721767891]}"
            ]
          },
          "metadata": {},
          "execution_count": 50
        }
      ],
      "source": [
        "f_dict"
      ]
    },
    {
      "cell_type": "code",
      "execution_count": null,
      "metadata": {
        "id": "Kc2xGHXKzl9F"
      },
      "outputs": [],
      "source": [
        "with open('FS_VQD_0.npy', 'rb') as f:\n",
        "    E0_FS_arr = np.load(f)\n",
        "\n",
        "with open('FS_VQD_1.npy', 'rb') as f:\n",
        "    E1_FS_arr = np.load(f)\n",
        "\n",
        "with open('FS_VQD_2.npy', 'rb') as f:\n",
        "    E2_FS_arr = np.load(f)"
      ]
    },
    {
      "cell_type": "code",
      "execution_count": null,
      "metadata": {
        "id": "A6HQ_YuTyGbA"
      },
      "outputs": [],
      "source": [
        "with open('FS_VQD_F0.npy', 'rb') as f:\n",
        "    F0_FS_arr = np.load(f)\n",
        "\n",
        "with open('FS_VQD_F1.npy', 'rb') as f:\n",
        "    F1_FS_arr = np.load(f)\n",
        "\n",
        "with open('FS_VQD_F2.npy', 'rb') as f:\n",
        "    F2_FS_arr = np.load(f)"
      ]
    },
    {
      "cell_type": "code",
      "source": [
        "with open('FS_VQD_iter0.npy', 'rb') as f:\n",
        "    F0_iter = np.load(f)\n",
        "\n",
        "with open('FS_VQD_iter1.npy', 'rb') as f:\n",
        "    F1_iter = np.load(f)\n",
        "\n",
        "with open('FS_VQD_iter2.npy', 'rb') as f:\n",
        "    F2_iter = np.load(f)"
      ],
      "metadata": {
        "id": "N-9gcYc2EPOH"
      },
      "execution_count": null,
      "outputs": []
    },
    {
      "cell_type": "code",
      "source": [
        "np.mean(F0_iter)"
      ],
      "metadata": {
        "colab": {
          "base_uri": "https://localhost:8080/"
        },
        "id": "4Jn9pcsEHhy7",
        "outputId": "af0d3af1-5e08-4d92-d9b7-2896817a8336"
      },
      "execution_count": null,
      "outputs": [
        {
          "output_type": "execute_result",
          "data": {
            "text/plain": [
              "0.0005403731860734951"
            ]
          },
          "metadata": {},
          "execution_count": 66
        }
      ]
    },
    {
      "cell_type": "code",
      "execution_count": null,
      "metadata": {
        "id": "RtTNZhATvT3t"
      },
      "outputs": [],
      "source": [
        "with open('FS_SS_VQE_0.npy', 'rb') as f:\n",
        "    E0_SS_arr = np.load(f)\n",
        "\n",
        "with open('FS_SS_VQE_1.npy', 'rb') as f:\n",
        "    E1_SS_arr = np.load(f)\n",
        "\n",
        "with open('FS_SS_VQE_2.npy', 'rb') as f:\n",
        "    E2_SS_arr = np.load(f)"
      ]
    },
    {
      "cell_type": "code",
      "execution_count": null,
      "metadata": {
        "id": "svJ3pN4HyZ-q"
      },
      "outputs": [],
      "source": [
        "with open('FS_SS_VQE_0_F.npy', 'rb') as f:\n",
        "    F0_SS_arr = np.load(f)\n",
        "\n",
        "with open('FS_SS_VQE_1_F.npy', 'rb') as f:\n",
        "    F1_SS_arr = np.load(f)\n",
        "\n",
        "with open('FS_SS_VQE_2_F.npy', 'rb') as f:\n",
        "    F2_SS_arr = np.load(f)"
      ]
    },
    {
      "cell_type": "code",
      "execution_count": null,
      "metadata": {
        "colab": {
          "base_uri": "https://localhost:8080/",
          "height": 427
        },
        "id": "3yODfM_NzB49",
        "outputId": "3e9b1aa8-b7ca-4e8e-9f95-fde5b9d89d9d"
      },
      "outputs": [
        {
          "output_type": "display_data",
          "data": {
            "text/plain": [
              "<Figure size 455.625x432.844 with 4 Axes>"
            ],
            "image/png": "[encoded data removed]"
          },
          "metadata": {}
        }
      ],
      "source": [
        "fig,axes = plt.subplots(2,2,sharex = True,sharey = False, figsize = (1.35*3.375,1.35*0.95*3.375),squeeze = False)#,width_ratios=[1,1.04])\n",
        "plt.subplots_adjust(hspace=0.15,wspace=0.05)\n",
        "\n",
        "for i in f_dict.keys():\n",
        "    if len(r_lst)==len(f_dict[i]):\n",
        "        axes[0,0].plot(r_lst,f_dict[i])\n",
        "axes[0,0].text(0.02,1.05,r\"$\\textbf{(a)}$\",transform=axes[0,0].transAxes)\n",
        "axes[0,0].scatter(r_lst1,E2_FS_arr,s=7,c='k',label='FS-VQD',zorder=-1)\n",
        "axes[0,0].scatter(r_lst1,E1_FS_arr,s=7,c='k',zorder=-1)\n",
        "axes[0,0].scatter(r_lst1,E0_FS_arr,s=7,c='k',zorder=-1)\n",
        "axes[0,0].set_ylim(-1.55,-0.4)\n",
        "axes[0,0].set_yticks([-1.4,-1.0,-0.6])\n",
        "axes[0,0].legend(bbox_to_anchor=(1.09, 1.07),loc='upper right',frameon=False,labelspacing = 0.09,handlelength=0.7)\n",
        "axes[0,0].set_ylabel(r\"$\\mathrm{Ha}$\")\n",
        "\n",
        "axes[0,1].text(0.02,1.05,r\"$\\textbf{(b)}$\",transform=axes[0,1].transAxes)\n",
        "axes[0,1].scatter(r_lst1,E2_SS_arr,s=7,c='k',marker='^',label='FS-SSVQE')\n",
        "axes[0,1].scatter(r_lst1,E1_SS_arr,s=7,c='k',marker='^')\n",
        "axes[0,1].scatter(r_lst1,E0_SS_arr,s=7,c='k',marker='^')\n",
        "axes[0,1].legend(bbox_to_anchor=(1.09, 1.08),loc='upper right',frameon=False,labelspacing = 0.09,handlelength=0.7)\n",
        "for i in f_dict.keys():\n",
        "    if len(r_lst)==len(f_dict[i]):\n",
        "        axes[0,1].plot(r_lst,f_dict[i])\n",
        "axes[0,1].set_ylim(-1.55,-0.4)\n",
        "axes[0,1].set_yticks([])\n",
        "\n",
        "axes[1,0].text(0.02,1.05,r\"$\\textbf{(c)}$\",transform=axes[1,0].transAxes)\n",
        "axes[1,0].scatter(r_lst1,F2_FS_arr,s=7,c='k',label='FS-VQD')\n",
        "axes[1,0].scatter(r_lst1,F1_FS_arr,s=7,c='k')\n",
        "axes[1,0].scatter(r_lst1,F0_FS_arr,s=7,c='k')\n",
        "#axes[1,0].set_yticks([0,0.001,0.002,0.003])\n",
        "axes[1,0].set_xlabel(r\"$\\mathrm{Atomic}$ $\\mathrm{Unit}$\")\n",
        "axes[1,0].set_ylabel(r\"$\\left\\langle H^{2}\\right\\rangle -\\left\\langle H\\right\\rangle ^{2}$\")\n",
        "axes[1,0].set_ylim(1e-5,4e-3)\n",
        "axes[1,0].set_yscale('log')\n",
        "\n",
        "axes[1,1].text(0.02,1.05,r\"$\\textbf{(d)}$\",transform=axes[1,1].transAxes)\n",
        "axes[1,1].scatter(r_lst1,F2_SS_arr,s=7,c='k',marker='^')\n",
        "axes[1,1].scatter(r_lst1,F1_SS_arr,s=7,c='k',marker='^')\n",
        "axes[1,1].scatter(r_lst1,F0_SS_arr,s=7,c='k',marker='^')\n",
        "axes[1,1].set_ylim(1e-5,4e-3)\n",
        "axes[1,1].set_yscale('log')\n",
        "axes[1,1].set_yticks([])\n",
        "axes[1,1].set_xlabel(r\"$\\mathrm{Atomic}$ $\\mathrm{Unit}$\")\n",
        "\n",
        "\n",
        "plt.savefig(\"HES.png\",dpi = 300,bbox_inches='tight',facecolor='white',transparent=False)"
      ]
    },
    {
      "cell_type": "code",
      "execution_count": null,
      "metadata": {
        "id": "qta6Yvp6x6yZ"
      },
      "outputs": [],
      "source": [
        "\n",
        "with open('ADAM_cost.npy', 'rb') as f:\n",
        "    adam_cost = np.load(f)\n",
        "\n",
        "with open('QNG_cost_1.npy', 'rb') as f:\n",
        "    QNG_cost = np.load(f)\n",
        "\n",
        "with open('GD_cost.npy', 'rb') as f:\n",
        "    GD_cost = np.load(f)"
      ]
    },
    {
      "cell_type": "code",
      "execution_count": null,
      "metadata": {
        "id": "bkN06iBPJrFn"
      },
      "outputs": [],
      "source": [
        "adam_iter=np.linspace(1,len(adam_cost),len(adam_cost))\n",
        "QNG_iter=np.linspace(1,len(QNG_cost),len(QNG_cost))\n",
        "GD_iter=np.linspace(1,len(GD_cost),len(GD_cost))"
      ]
    },
    {
      "cell_type": "code",
      "execution_count": null,
      "metadata": {
        "colab": {
          "base_uri": "https://localhost:8080/",
          "height": 340
        },
        "id": "qtiCN7R3KDlU",
        "outputId": "b24be049-2d33-43ed-d0a5-888af52a26e8"
      },
      "outputs": [
        {
          "output_type": "display_data",
          "data": {
            "text/plain": [
              "<Figure size 364.5x344.25 with 1 Axes>"
            ],
            "image/png": "[encoded data removed]"
          },
          "metadata": {}
        }
      ],
      "source": [
        "fig,axes = plt.subplots(1,1,sharex = True,sharey = False, figsize = (1.35*3.375*0.8,1.35*0.85*3.375*8/9),squeeze = False)#,width_ratios=[1,1.04])\n",
        "axes[0,0].plot(adam_iter,adam_cost,label='Adam')\n",
        "axes[0,0].plot(GD_iter,GD_cost,label='GD')\n",
        "axes[0,0].plot(QNG_iter,QNG_cost,label='QNG')\n",
        "\n",
        "axes[0,0].set_xlabel(r\"$\\mathrm{Iterations}$\")\n",
        "\n",
        "axes[0,0].set_ylabel(r\"$\\left\\langle \\left(H-\\omega\\right)^{2}\\right\\rangle $\")\n",
        "\n",
        "axes[0,0].axhline(0.03399506427821475,c='r',label='Target')\n",
        "axes[0,0].legend(frameon=False,labelspacing = 0.09,handlelength=0.7)\n",
        "plt.savefig(\"OPT.png\",dpi = 300,bbox_inches='tight',facecolor='white',transparent=False)"
      ]
    },
    {
      "cell_type": "code",
      "execution_count": null,
      "metadata": {
        "colab": {
          "base_uri": "https://localhost:8080/"
        },
        "id": "ApL-FXn-KKGj",
        "outputId": "6edaf428-b72c-4098-db21-7067287fc8ef"
      },
      "outputs": [
        {
          "output_type": "execute_result",
          "data": {
            "text/plain": [
              "2.142421788251664e-05"
            ]
          },
          "metadata": {},
          "execution_count": 59
        }
      ],
      "source": [
        "adam_cost[-1]-0.03399506427821475"
      ]
    },
    {
      "cell_type": "code",
      "execution_count": null,
      "metadata": {
        "colab": {
          "base_uri": "https://localhost:8080/"
        },
        "id": "USlH0ReDjPYr",
        "outputId": "f4344a2e-8ec9-4245-ce6f-62508ccd0c51"
      },
      "outputs": [
        {
          "output_type": "execute_result",
          "data": {
            "text/plain": [
              "0.034016488496097265"
            ]
          },
          "metadata": {},
          "execution_count": 60
        }
      ],
      "source": [
        "adam_cost[-1]"
      ]
    },
    {
      "cell_type": "code",
      "execution_count": null,
      "metadata": {
        "id": "_FgDnuAkO9u1"
      },
      "outputs": [],
      "source": []
    }
  ],
  "metadata": {
    "colab": {
      "provenance": []
    },
    "kernelspec": {
      "display_name": "Python 3",
      "name": "python3"
    },
    "language_info": {
      "name": "python"
    }
  },
  "nbformat": 4,
  "nbformat_minor": 0
}